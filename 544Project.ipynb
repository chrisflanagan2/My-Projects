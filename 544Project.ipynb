{
 "cells": [
  {
   "cell_type": "code",
   "execution_count": 31,
   "id": "37fb811e-73d3-4000-a451-63a3aa580fbb",
   "metadata": {},
   "outputs": [],
   "source": [
    "import numpy as np\n",
    "import pandas as pd\n",
    "import re\n",
    "from bs4 import BeautifulSoup\n",
    "from html import unescape\n",
    "import csv\n",
    "import gc\n",
    "import string\n",
    "import nltk\n",
    "#from nltk import WordCloud, STOPWORDS\n",
    "import matplotlib.pyplot as plt\n",
    "from nltk.corpus import stopwords   #remove stopwords\n",
    "from nltk.stem.porter import PorterStemmer   #stemming\n",
    "import re\n",
    "from sklearn.feature_extraction.text import CountVectorizer #BOW\n",
    "from sklearn.feature_extraction.text import TfidfVectorizer    # Tf-idf\n",
    "#from gensim.models import Word2Vec \n",
    "import nltk\n",
    "from nltk.tokenize import word_tokenize\n",
    "import scipy.spatial.distance as scdist\n",
    "import seaborn as sns\n",
    "import matplotlib.pyplot as plt\n",
    "%matplotlib inline\n",
    "from sklearn.metrics                  import silhouette_samples, silhouette_score"
   ]
  },
  {
   "cell_type": "code",
   "execution_count": null,
   "id": "045bbaea-b1dd-4f84-ba68-98ca7856cfb4",
   "metadata": {
    "tags": []
   },
   "outputs": [],
   "source": [
    "# !pip install jupyter_contrib_nbextensions\n",
    "# !jupyter contrib nbextension install --user"
   ]
  },
  {
   "cell_type": "code",
   "execution_count": 3,
   "id": "c729adac",
   "metadata": {
    "tags": []
   },
   "outputs": [],
   "source": [
    "# import nltk\n",
    "# import ssl\n",
    "\n",
    "# try:\n",
    "#     _create_unverified_https_context = ssl._create_unverified_context\n",
    "# except AttributeError:\n",
    "#     pass\n",
    "# else:\n",
    "#     ssl._create_default_https_context = _create_unverified_https_context\n",
    "\n",
    "# nltk.download()"
   ]
  },
  {
   "cell_type": "code",
   "execution_count": 4,
   "id": "a9cd818d",
   "metadata": {},
   "outputs": [],
   "source": [
    "# nltk.download('WordCloud')\n",
    "# # nltk.download('punkt')"
   ]
  },
  {
   "cell_type": "code",
   "execution_count": 32,
   "id": "36c33027-45a7-43dc-9309-2adf53bfe2be",
   "metadata": {},
   "outputs": [
    {
     "name": "stderr",
     "output_type": "stream",
     "text": [
      "/opt/anaconda3/lib/python3.9/site-packages/IPython/core/interactiveshell.py:3444: DtypeWarning: Columns (0,1,5) have mixed types.Specify dtype option on import or set low_memory=False.\n",
      "  exec(code_obj, self.user_global_ns, self.user_ns)\n"
     ]
    },
    {
     "data": {
      "text/html": [
       "<div>\n",
       "<style scoped>\n",
       "    .dataframe tbody tr th:only-of-type {\n",
       "        vertical-align: middle;\n",
       "    }\n",
       "\n",
       "    .dataframe tbody tr th {\n",
       "        vertical-align: top;\n",
       "    }\n",
       "\n",
       "    .dataframe thead th {\n",
       "        text-align: right;\n",
       "    }\n",
       "</style>\n",
       "<table border=\"1\" class=\"dataframe\">\n",
       "  <thead>\n",
       "    <tr style=\"text-align: right;\">\n",
       "      <th></th>\n",
       "      <th>Unnamed: 0</th>\n",
       "      <th>userid</th>\n",
       "      <th>username</th>\n",
       "      <th>acctdesc</th>\n",
       "      <th>location</th>\n",
       "      <th>following</th>\n",
       "      <th>followers</th>\n",
       "      <th>totaltweets</th>\n",
       "      <th>usercreatedts</th>\n",
       "      <th>tweetid</th>\n",
       "      <th>tweetcreatedts</th>\n",
       "      <th>retweetcount</th>\n",
       "      <th>text</th>\n",
       "      <th>hashtags</th>\n",
       "      <th>language</th>\n",
       "      <th>coordinates</th>\n",
       "      <th>favorite_count</th>\n",
       "      <th>extractedts</th>\n",
       "    </tr>\n",
       "  </thead>\n",
       "  <tbody>\n",
       "    <tr>\n",
       "      <th>0</th>\n",
       "      <td>1141800</td>\n",
       "      <td>1466752038960656385</td>\n",
       "      <td>Curtin2Tiffany</td>\n",
       "      <td>I am just like everyone else.  The universe ex...</td>\n",
       "      <td>Colorado, USA</td>\n",
       "      <td>253</td>\n",
       "      <td>40.0</td>\n",
       "      <td>94.0</td>\n",
       "      <td>2021-12-03 12:52:22.000000</td>\n",
       "      <td>1.497725e+18</td>\n",
       "      <td>2022-02-27 00:07:16</td>\n",
       "      <td>5.0</td>\n",
       "      <td>#UkraineRussiaWar Captured Russian soldiers\\n\\...</td>\n",
       "      <td>[{'text': 'UkraineRussiaWar', 'indices': [19, ...</td>\n",
       "      <td>en</td>\n",
       "      <td>NaN</td>\n",
       "      <td>0.0</td>\n",
       "      <td>2022-02-27 00:09:33.084131</td>\n",
       "    </tr>\n",
       "    <tr>\n",
       "      <th>1</th>\n",
       "      <td>1141801</td>\n",
       "      <td>1111276809302216710</td>\n",
       "      <td>5ela60</td>\n",
       "      <td>الأب ..الأخ ..الجار ..الحبيب .. السديك</td>\n",
       "      <td>NaN</td>\n",
       "      <td>167</td>\n",
       "      <td>9.0</td>\n",
       "      <td>656.0</td>\n",
       "      <td>2019-03-28 14:40:12.000000</td>\n",
       "      <td>1.497725e+18</td>\n",
       "      <td>2022-02-27 00:07:16</td>\n",
       "      <td>28.0</td>\n",
       "      <td>Like everybody else I am rooting for Ukraine t...</td>\n",
       "      <td>[]</td>\n",
       "      <td>en</td>\n",
       "      <td>NaN</td>\n",
       "      <td>0.0</td>\n",
       "      <td>2022-02-27 00:09:33.068011</td>\n",
       "    </tr>\n",
       "    <tr>\n",
       "      <th>2</th>\n",
       "      <td>1141802</td>\n",
       "      <td>1364735420236505088</td>\n",
       "      <td>StatistWomen</td>\n",
       "      <td>🇹🇷</td>\n",
       "      <td>Cumhur İttifakı</td>\n",
       "      <td>1771</td>\n",
       "      <td>1766.0</td>\n",
       "      <td>37009.0</td>\n",
       "      <td>2021-02-25 00:35:28.000000</td>\n",
       "      <td>1.497725e+18</td>\n",
       "      <td>2022-02-27 00:07:16</td>\n",
       "      <td>3.0</td>\n",
       "      <td>#Ukrayna Güvenlik Servisi, #Rus finosu #Kadiro...</td>\n",
       "      <td>[{'text': 'Ukrayna', 'indices': [15, 23]}, {'t...</td>\n",
       "      <td>tr</td>\n",
       "      <td>NaN</td>\n",
       "      <td>0.0</td>\n",
       "      <td>2022-02-27 00:09:33.059979</td>\n",
       "    </tr>\n",
       "    <tr>\n",
       "      <th>3</th>\n",
       "      <td>1141803</td>\n",
       "      <td>597779527</td>\n",
       "      <td>OurTurnToRescue</td>\n",
       "      <td>Issues: Threats to Democracy, Racism, GOP corr...</td>\n",
       "      <td>NaN</td>\n",
       "      <td>4847</td>\n",
       "      <td>4080.0</td>\n",
       "      <td>33666.0</td>\n",
       "      <td>2012-06-02 21:53:59.000000</td>\n",
       "      <td>1.497725e+18</td>\n",
       "      <td>2022-02-27 00:07:16</td>\n",
       "      <td>1.0</td>\n",
       "      <td>We elected a game show host and got a clown. #...</td>\n",
       "      <td>[{'text': 'Ukraine', 'indices': [63, 71]}]</td>\n",
       "      <td>en</td>\n",
       "      <td>NaN</td>\n",
       "      <td>0.0</td>\n",
       "      <td>2022-02-27 00:09:33.051823</td>\n",
       "    </tr>\n",
       "    <tr>\n",
       "      <th>4</th>\n",
       "      <td>1141804</td>\n",
       "      <td>1646145848</td>\n",
       "      <td>DrWAVeSportCd1</td>\n",
       "      <td>Addicted to News, Music, Cooking, Gardens, Out...</td>\n",
       "      <td>USA</td>\n",
       "      <td>5002</td>\n",
       "      <td>3950.0</td>\n",
       "      <td>466629.0</td>\n",
       "      <td>2013-08-04 21:07:08.000000</td>\n",
       "      <td>1.497725e+18</td>\n",
       "      <td>2022-02-27 00:07:16</td>\n",
       "      <td>277.0</td>\n",
       "      <td>Ukrainian soldiers wearing sunflowers in their...</td>\n",
       "      <td>[{'text': 'Ukraine', 'indices': [122, 130]}, {...</td>\n",
       "      <td>en</td>\n",
       "      <td>NaN</td>\n",
       "      <td>0.0</td>\n",
       "      <td>2022-02-27 00:09:33.043812</td>\n",
       "    </tr>\n",
       "  </tbody>\n",
       "</table>\n",
       "</div>"
      ],
      "text/plain": [
       "  Unnamed: 0               userid         username  \\\n",
       "0    1141800  1466752038960656385   Curtin2Tiffany   \n",
       "1    1141801  1111276809302216710           5ela60   \n",
       "2    1141802  1364735420236505088     StatistWomen   \n",
       "3    1141803            597779527  OurTurnToRescue   \n",
       "4    1141804           1646145848   DrWAVeSportCd1   \n",
       "\n",
       "                                            acctdesc         location  \\\n",
       "0  I am just like everyone else.  The universe ex...    Colorado, USA   \n",
       "1             الأب ..الأخ ..الجار ..الحبيب .. السديك              NaN   \n",
       "2                                                 🇹🇷  Cumhur İttifakı   \n",
       "3  Issues: Threats to Democracy, Racism, GOP corr...              NaN   \n",
       "4  Addicted to News, Music, Cooking, Gardens, Out...              USA   \n",
       "\n",
       "  following  followers  totaltweets               usercreatedts       tweetid  \\\n",
       "0       253       40.0         94.0  2021-12-03 12:52:22.000000  1.497725e+18   \n",
       "1       167        9.0        656.0  2019-03-28 14:40:12.000000  1.497725e+18   \n",
       "2      1771     1766.0      37009.0  2021-02-25 00:35:28.000000  1.497725e+18   \n",
       "3      4847     4080.0      33666.0  2012-06-02 21:53:59.000000  1.497725e+18   \n",
       "4      5002     3950.0     466629.0  2013-08-04 21:07:08.000000  1.497725e+18   \n",
       "\n",
       "        tweetcreatedts  retweetcount  \\\n",
       "0  2022-02-27 00:07:16           5.0   \n",
       "1  2022-02-27 00:07:16          28.0   \n",
       "2  2022-02-27 00:07:16           3.0   \n",
       "3  2022-02-27 00:07:16           1.0   \n",
       "4  2022-02-27 00:07:16         277.0   \n",
       "\n",
       "                                                text  \\\n",
       "0  #UkraineRussiaWar Captured Russian soldiers\\n\\...   \n",
       "1  Like everybody else I am rooting for Ukraine t...   \n",
       "2  #Ukrayna Güvenlik Servisi, #Rus finosu #Kadiro...   \n",
       "3  We elected a game show host and got a clown. #...   \n",
       "4  Ukrainian soldiers wearing sunflowers in their...   \n",
       "\n",
       "                                            hashtags language coordinates  \\\n",
       "0  [{'text': 'UkraineRussiaWar', 'indices': [19, ...       en         NaN   \n",
       "1                                                 []       en         NaN   \n",
       "2  [{'text': 'Ukrayna', 'indices': [15, 23]}, {'t...       tr         NaN   \n",
       "3         [{'text': 'Ukraine', 'indices': [63, 71]}]       en         NaN   \n",
       "4  [{'text': 'Ukraine', 'indices': [122, 130]}, {...       en         NaN   \n",
       "\n",
       "   favorite_count                 extractedts  \n",
       "0             0.0  2022-02-27 00:09:33.084131  \n",
       "1             0.0  2022-02-27 00:09:33.068011  \n",
       "2             0.0  2022-02-27 00:09:33.059979  \n",
       "3             0.0  2022-02-27 00:09:33.051823  \n",
       "4             0.0  2022-02-27 00:09:33.043812  "
      ]
     },
     "execution_count": 32,
     "metadata": {},
     "output_type": "execute_result"
    }
   ],
   "source": [
    "df= pd.read_csv(\"/Users/chrisflanagan/Desktop/Computational Linear Algebra /project/dataSources/UkraineTwitter1.csv\")\n",
    "df.head()"
   ]
  },
  {
   "cell_type": "code",
   "execution_count": 33,
   "id": "b89a5d42-db17-4222-9516-ad9ab5224e77",
   "metadata": {},
   "outputs": [
    {
     "data": {
      "text/plain": [
       "(46855, 18)"
      ]
     },
     "execution_count": 33,
     "metadata": {},
     "output_type": "execute_result"
    }
   ],
   "source": [
    "df = df[df[\"language\"]== \"en\"]\n",
    "df.reset_index(drop=True, inplace=True)\n",
    "df.shape"
   ]
  },
  {
   "cell_type": "code",
   "execution_count": 34,
   "id": "acb0670d",
   "metadata": {},
   "outputs": [
    {
     "data": {
      "text/plain": [
       "(5000, 2)"
      ]
     },
     "execution_count": 34,
     "metadata": {},
     "output_type": "execute_result"
    }
   ],
   "source": [
    "df = df[['text','retweetcount']].sort_values(by = 'retweetcount', ascending=False)\n",
    "df.drop_duplicates(subset =\"text\",\n",
    "                     keep = 'first', inplace = True)\n",
    "df.drop(['retweetcount'], axis = 1)\n",
    "df = df.iloc[:5000,:]\n",
    "df.head()\n",
    "df.shape"
   ]
  },
  {
   "cell_type": "code",
   "execution_count": 35,
   "id": "1f4b8876-b00b-4e54-b9b1-75f78af9fea6",
   "metadata": {},
   "outputs": [],
   "source": [
    "import re\n",
    "from bs4 import BeautifulSoup\n",
    "from html import unescape\n",
    "\n",
    "def remove_urls(x):\n",
    "    cleaned_string = re.sub(r'(https|http)?:\\/\\/(\\w|\\.|\\/|\\?|\\=|\\&|\\%)*\\b', '', str(x), flags=re.MULTILINE)\n",
    "    return cleaned_string"
   ]
  },
  {
   "cell_type": "code",
   "execution_count": 36,
   "id": "b1007ec5-d651-4f1d-9931-65c402b764b7",
   "metadata": {},
   "outputs": [],
   "source": [
    "def unescape_stuff(x):\n",
    "    soup = BeautifulSoup(unescape(x), 'lxml')\n",
    "    return soup.text"
   ]
  },
  {
   "cell_type": "code",
   "execution_count": 37,
   "id": "14501593-dd70-4290-985f-826ef1c9cdc0",
   "metadata": {},
   "outputs": [],
   "source": [
    "def deEmojify(x):\n",
    "    regrex_pattern = re.compile(pattern = \"[\"\n",
    "        u\"\\U0001F600-\\U0001F64F\"  # emoticons\n",
    "        u\"\\U0001F300-\\U0001F5FF\"  # symbols & pictographs\n",
    "        u\"\\U0001F680-\\U0001F6FF\"  # transport & map symbols\n",
    "        u\"\\U0001F1E0-\\U0001F1FF\"  # flags (iOS)\n",
    "                           \"]+\", flags = re.UNICODE)\n",
    "    return regrex_pattern.sub(r'', x)"
   ]
  },
  {
   "cell_type": "code",
   "execution_count": 38,
   "id": "b40cabad-c5ce-4cfc-96dc-5dab741b3283",
   "metadata": {},
   "outputs": [],
   "source": [
    "def remove_symbols(x):\n",
    "    cleaned_string = re.sub(r\"[^a-zA-Z0-9]+\", ' ', x)\n",
    "    return cleaned_string "
   ]
  },
  {
   "cell_type": "code",
   "execution_count": 39,
   "id": "e5a9bb45-b405-4593-a4cc-3bb5895e47cb",
   "metadata": {},
   "outputs": [],
   "source": [
    "def remove_hashtags(x):\n",
    "    cleaned_string = re.sub(\"#[A-Za-z0-9_]+\",\"\", x)\n",
    "    return (cleaned_string)"
   ]
  },
  {
   "cell_type": "code",
   "execution_count": 40,
   "id": "3cfff727-a0b6-43d9-9d46-1779b4aaed49",
   "metadata": {},
   "outputs": [],
   "source": [
    "def unify_whitespaces(x):\n",
    "    cleaned_string = re.sub(' +', ' ', x)\n",
    "    return cleaned_string"
   ]
  },
  {
   "cell_type": "code",
   "execution_count": 49,
   "id": "cca7138b",
   "metadata": {},
   "outputs": [],
   "source": [
    "def remove_numbers(x):\n",
    "    cleaned_string = re.sub('\\d+', '',x)\n",
    "    return cleaned_string"
   ]
  },
  {
   "cell_type": "code",
   "execution_count": 50,
   "id": "6e6f191e-f632-43b1-ba20-f1e83bb4e50d",
   "metadata": {},
   "outputs": [],
   "source": [
    "from nltk.corpus import stopwords\n",
    "df['text'] = df['text'].str.lower()\n",
    "df['text'] = df['text'].apply(remove_urls)\n",
    "df['text'] = df['text'].apply(unescape_stuff)\n",
    "df['text'] = df['text'].apply(deEmojify)\n",
    "df['text'] = df['text'].apply(remove_hashtags)\n",
    "df['text'] = df['text'].apply(remove_symbols)\n",
    "df['text'] = df['text'].apply(unify_whitespaces)\n",
    "df['text'] = df['text'].apply(remove_numbers)\n",
    "df['text'] = df['text'].apply(lambda x: ' '.join([word for word in x.split() if word not in (stopwords.words('english'))]))\n"
   ]
  },
  {
   "cell_type": "code",
   "execution_count": 55,
   "id": "1d6aa89c",
   "metadata": {
    "jupyter": {
     "outputs_hidden": true
    },
    "tags": []
   },
   "outputs": [
    {
     "name": "stdout",
     "output_type": "stream",
     "text": [
      "27834    first time russia recognized losses war ukrain...\n",
      "9860     magomed one ramzan top warlords killed action ...\n",
      "45479    soldiers anti tank weapons saying feed russian...\n",
      "37616    mcfaul agree day grace period emergency putin ...\n",
      "42436    destruction convoy chechen special forces near...\n",
      "Name: text, dtype: object\n"
     ]
    }
   ],
   "source": [
    "# Stemming document\n",
    "# from nltk.stem.snowball import SnowballStemmer\n",
    "# snow_stemmer = SnowballStemmer(language='english')\n",
    "# stemmed = []\n",
    "# for w in df['text']:\n",
    "#     x = snow_stemmer.stem(w)\n",
    "#     stemmed.append(x)\n",
    "# stemmed\n",
    "print(df['text'].tail())"
   ]
  },
  {
   "cell_type": "code",
   "execution_count": 56,
   "id": "27ca908a",
   "metadata": {
    "scrolled": true,
    "tags": []
   },
   "outputs": [
    {
     "name": "stdout",
     "output_type": "stream",
     "text": [
      "Bag of words matrix: \n",
      " [[0. 0. 0. ... 0. 0. 0.]\n",
      " [0. 0. 0. ... 0. 0. 0.]\n",
      " [0. 0. 0. ... 0. 0. 0.]\n",
      " ...\n",
      " [0. 0. 0. ... 0. 0. 0.]\n",
      " [0. 0. 0. ... 0. 0. 0.]\n",
      " [0. 0. 0. ... 0. 0. 0.]] ['00' '000' '00001' ... 'zr' 'zvezda' 'zvikaklein']\n"
     ]
    }
   ],
   "source": [
    "# TF-IDF to bag of words\n",
    "from sklearn.feature_extraction.text import TfidfVectorizer\n",
    "vect = TfidfVectorizer()\n",
    "# print (\"Feature Names: \\n\",vect.get_feature_names())\n",
    "bow = vect.fit_transform(stemmed)\n",
    "# print (\"Data Type of variable bow:\",type(bow))\n",
    "# print(\"\\n Bag of words sparse matrix:\\n\",bow)\n",
    "X = bow.toarray()\n",
    "words = np.array(vect.get_feature_names())\n",
    "print(\"Bag of words matrix: \\n\", X, words)"
   ]
  },
  {
   "cell_type": "code",
   "execution_count": 18,
   "id": "44cdd9e5",
   "metadata": {
    "scrolled": true,
    "tags": []
   },
   "outputs": [],
   "source": [
    "# Visualize the sparce coo matrix\n",
    "# from scipy.sparse import coo_matrix\n",
    "# from scipy.sparse import csr_matrix\n",
    "# import scipy.sparse as sps\n",
    "# import matplotlib.pyplot as plt\n",
    "# from matplotlib.pyplot import figure\n",
    "# from scipy.sparse import coo_matrix\n",
    "\n",
    "# def plot_coo_matrix(m):\n",
    "#     if not isinstance(m, coo_matrix):\n",
    "#         m = coo_matrix(m)\n",
    "#     fig = plt.figure(figure(figsize=(12,10), dpi=80))\n",
    "#     ax = fig.add_subplot(111, facecolor='white')\n",
    "#     ax.plot(m.col, m.row, 's', color='black', ms=1)\n",
    "#     ax.set_xlim(0, m.shape[1])\n",
    "#     ax.set_ylim(0, m.shape[0])\n",
    "#     ax.set_aspect('equal')\n",
    "#     for spine in ax.spines.values():\n",
    "#         spine.set_visible(False)\n",
    "#     ax.invert_yaxis()\n",
    "#     ax.set_aspect('equal')\n",
    "#     ax.set_xticks([])\n",
    "#     ax.set_yticks([])\n",
    "#     return ax\n",
    "\n",
    "# m = coo_matrix(X)\n",
    "# ax = plot_coo_matrix(m)\n",
    "# # convert to csr and use spy\n",
    "# ax\n"
   ]
  },
  {
   "cell_type": "code",
   "execution_count": 19,
   "id": "e39d977e-5003-4e1e-92a6-66ac56ac00ab",
   "metadata": {
    "jupyter": {
     "outputs_hidden": true
    },
    "tags": []
   },
   "outputs": [],
   "source": [
    "# comment_words = ''\n",
    "# for val in df['text']:\n",
    "      \n",
    "#     # typecaste each val to string\n",
    "#     val = str(val)\n",
    "  \n",
    "#     # split the value\n",
    "#     tokens = val.split()\n",
    "      \n",
    "#     # Converts each token into lowercase\n",
    "#     for i in range(len(tokens)):\n",
    "#         tokens[i] = tokens[i].lower()\n",
    "      \n",
    "#     comment_words += \" \".join(tokens)+\" \"\n",
    "  \n",
    "# wordcloud = WordCloud(width = 800, height = 800,\n",
    "#                 background_color ='white',\n",
    "#                 min_font_size = 10,\n",
    "#                 collocations = False).generate(comment_words)\n",
    "  \n",
    "# # plot the WordCloud image                       \n",
    "# plt.figure(figsize = (8, 8), facecolor = None)\n",
    "# plt.imshow(wordcloud)\n",
    "# plt.axis(\"off\")\n",
    "# plt.tight_layout(pad = 0)\n",
    "  \n",
    "# plt.show()"
   ]
  },
  {
   "cell_type": "code",
   "execution_count": 57,
   "id": "92b24de8-b52c-489f-bc27-e07307c8f1e0",
   "metadata": {
    "tags": []
   },
   "outputs": [
    {
     "name": "stdout",
     "output_type": "stream",
     "text": [
      "CPU times: user 8min 48s, sys: 6.01 s, total: 8min 54s\n",
      "Wall time: 1min 56s\n"
     ]
    }
   ],
   "source": [
    "from scipy import linalg\n",
    "from sklearn.feature_extraction.text import CountVectorizer\n",
    "vect = CountVectorizer(stop_words='english')\n",
    "vectors = vect.fit_transform(df['text']).todense() # (documents, vocab)\n",
    "vectors.shape #, vectors.nnz / vectors.shape[0], row_means.shape\n",
    "%time U, s, Vh = linalg.svd(vectors, full_matrices=False) "
   ]
  },
  {
   "cell_type": "code",
   "execution_count": 24,
   "id": "a99e09e1-2da9-47ea-9af0-1eefb6363dd3",
   "metadata": {
    "tags": []
   },
   "outputs": [
    {
     "name": "stdout",
     "output_type": "stream",
     "text": [
      "(5000, 5000) (5000,) (5000, 10643)\n"
     ]
    }
   ],
   "source": [
    "print(U.shape, s.shape, Vh.shape)"
   ]
  },
  {
   "cell_type": "code",
   "execution_count": 27,
   "id": "3d4673d1-f2c3-4ace-8d39-4f2111711cfc",
   "metadata": {},
   "outputs": [
    {
     "data": {
      "text/plain": [
       "[<matplotlib.lines.Line2D at 0x7fd4da8c6e50>]"
      ]
     },
     "execution_count": 27,
     "metadata": {},
     "output_type": "execute_result"
    },
    {
     "data": {
      "image/png": "[encoded data removed]",
      "text/plain": [
       "<Figure size 432x288 with 1 Axes>"
      ]
     },
     "metadata": {
      "needs_background": "light"
     },
     "output_type": "display_data"
    }
   ],
   "source": [
    "import matplotlib.pyplot as plt\n",
    "plt.plot(s[:30])"
   ]
  },
  {
   "cell_type": "code",
   "execution_count": 28,
   "id": "ec261224-a3e3-43d9-8970-d3a07a52e56f",
   "metadata": {},
   "outputs": [
    {
     "name": "stderr",
     "output_type": "stream",
     "text": [
      "/opt/anaconda3/lib/python3.9/site-packages/sklearn/decomposition/_nmf.py:312: FutureWarning: The 'init' value, when 'init=None' and n_components is less than n_samples and n_features, will be changed from 'nndsvd' to 'nndsvda' in 1.1 (renaming of 0.26).\n",
      "  warnings.warn((\"The 'init' value, when 'init=None' and \"\n"
     ]
    },
    {
     "name": "stdout",
     "output_type": "stream",
     "text": [
      "Topic 1: world,country,people,like,rt,stand,support,ukrain,russia,ukraine\n",
      "Topic 2: kyiv,near,video,forces,army,soldier,soldiers,captured,ukrainian,russian\n",
      "Topic 3: want,pleas,fighting,world,people,protest,end,putin,stop,war\n",
      "Topic 4: around,tell,using,phone,reading,gatherings,track,turn,geolocation,please\n",
      "Topic 5: leader,volodymyr,fight,us,ukraine,man,putin,zelensky,hero,president\n",
      "Topic 6: national,russian,anonymous,happen,broadcast,truth,state,channels,hacked,tv\n"
     ]
    }
   ],
   "source": [
    "# do NMF\n",
    "from sklearn.decomposition import NMF\n",
    "nmf = NMF(n_components=6, solver=\"mu\")\n",
    "W = nmf.fit_transform(X)\n",
    "H = nmf.components_\n",
    "\n",
    "for i, topic in enumerate(H):\n",
    "     print(\"Topic {}: {}\".format(i + 1, \",\".join([str(x) for x in words[topic.argsort()[-10:]]])))"
   ]
  },
  {
   "cell_type": "code",
   "execution_count": null,
   "id": "4f3cfb18",
   "metadata": {},
   "outputs": [],
   "source": [
    "from sklearn.decomposition import TruncatedSVD\n",
    "from sklearn.preprocessing import Normalizer\n",
    "from sklearn.pipeline import make_pipeline\n",
    "svd = TruncatedSVD(n_components=5, n_iter=7, random_state=42)\n",
    "normalizer = Normalizer(copy=False)\n",
    "lsa = make_pipeline(svd, normalizer)\n",
    "mat_lsa = lsa.fit_transform(X)\n",
    "print(\"Explained variance of the SVD: {}%\".format(int(svd.explained_variance_ratio_.sum() * 100)))\n",
    "print(mat_lsa)"
   ]
  },
  {
   "cell_type": "code",
   "execution_count": null,
   "id": "3ea8d5e4",
   "metadata": {},
   "outputs": [],
   "source": [
    "from sklearn.cluster import KMeans\n",
    "k = 20\n",
    "score = []\n",
    "for i in range(1,k + 1):\n",
    "    kmeans = KMeans(n_clusters=i,init='k-means++',max_iter=300,n_init=5,random_state=0)\n",
    "    kmeans.fit(mat_lsa)\n",
    "    score.append(kmeans.inertia_)\n",
    "plt.plot(range(1,k + 1 ),score)\n",
    "plt.title('The Elbow Method')\n",
    "plt.xlabel('Number of clusters')\n",
    "plt.ylabel('Score')\n",
    "plt.savefig('elbow.png')\n",
    "plt.show()"
   ]
  },
  {
   "cell_type": "code",
   "execution_count": null,
   "id": "a7abe6f5",
   "metadata": {},
   "outputs": [],
   "source": [
    "k = 7\n",
    "#these are all default options (except for k)\n",
    "model = KMeans(n_clusters=k, init='k-means++', n_init=10, max_iter=600, tol=0.000001, random_state=0)\n",
    "model.fit(mat_lsa)"
   ]
  },
  {
   "cell_type": "code",
   "execution_count": null,
   "id": "b427b461",
   "metadata": {},
   "outputs": [],
   "source": [
    "clusters = model.predict(mat_lsa)"
   ]
  },
  {
   "cell_type": "code",
   "execution_count": null,
   "id": "2211f115",
   "metadata": {},
   "outputs": [],
   "source": [
    "df[\"ClusterName\"] = clusters\n",
    "df.head()"
   ]
  },
  {
   "cell_type": "code",
   "execution_count": null,
   "id": "5ae914f6",
   "metadata": {},
   "outputs": [],
   "source": [
    "def get_top_features_cluster(tf_idf_array, prediction, n_feats):\n",
    "    labels = np.unique(prediction)\n",
    "    dfs = []\n",
    "    for label in labels:\n",
    "        id_temp = np.where(prediction==label) # indices for each cluster\n",
    "        x_means = np.mean(tf_idf_array[id_temp], axis = 0) # returns average score across cluster\n",
    "        sorted_means = np.argsort(x_means)[::-1][:n_feats] # indices with top 20 scores\n",
    "        features = vectorizer.get_feature_names()\n",
    "        best_features = [(features[i], x_means[i]) for i in sorted_means]\n",
    "        df = pd.DataFrame(best_features, columns = ['features', 'score'])\n",
    "        dfs.append(df)\n",
    "    return dfs\n",
    "\n",
    "\n",
    "def plotWords(dfs, n_feats):\n",
    "    for i in range(0, len(dfs)):\n",
    "        plt.figure(figsize=(8, 2))\n",
    "        plt.title((\"Most Common Words in Cluster {}\".format(i)), fontsize=10, fontweight='bold')\n",
    "        sns.barplot(x = 'score' , y = 'features', orient = 'h' , data = dfs[i][:n_feats])\n",
    "\n",
    "dfs = get_top_features_cluster(bow.toarray(), prediction, 4)\n",
    "plotWords(dfs, 4)\n"
   ]
  },
  {
   "cell_type": "code",
   "execution_count": null,
   "id": "da529d31",
   "metadata": {},
   "outputs": [],
   "source": [
    "%time km.fit(DTM_tfidf_lsa)\n"
   ]
  },
  {
   "cell_type": "code",
   "execution_count": null,
   "id": "e0eeba63",
   "metadata": {},
   "outputs": [],
   "source": [
    "from sklearn import cluster\n",
    "k = 10\n",
    "kmeans_results = run_KMeans(k, mat)"
   ]
  },
  {
   "cell_type": "code",
   "execution_count": null,
   "id": "5fb1dbf6",
   "metadata": {},
   "outputs": [],
   "source": [
    "def get_top_features_cluster(tf_idf_array, prediction, n_feats):\n",
    "    labels = np.unique(prediction)\n",
    "    dfs = []\n",
    "    for label in labels:\n",
    "        id_temp = np.where(prediction==label) # indices for each cluster\n",
    "        x_means = np.mean(tf_idf_array[id_temp], axis = 0) # returns average score across cluster\n",
    "        sorted_means = np.argsort(x_means)[::-1][:n_feats] # indices with top 20 scores\n",
    "        features = vect.get_feature_names()\n",
    "        best_features = [(features[i], x_means[i]) for i in sorted_means]\n",
    "        df = pd.DataFrame(best_features, columns = ['features', 'score'])\n",
    "        dfs.append(df)\n",
    "    return dfs\n",
    "\n",
    "def plotWords(dfs, n_feats):\n",
    "    plt.figure(figsize=(8, 4))\n",
    "    for i in range(0, len(dfs)):\n",
    "        plt.title((\"Most Common Words in Cluster {}\".format(i)), fontsize=10, fontweight='bold')\n",
    "        sns.barplot(x = 'score' , y = 'features', orient = 'h' , data = dfs[i][:n_feats])\n",
    "        plt.show()"
   ]
  },
  {
   "cell_type": "code",
   "execution_count": null,
   "id": "d4539f0a",
   "metadata": {},
   "outputs": [],
   "source": [
    "best_result = 10\n",
    "kmeans = kmeans_results.get(best_result)\n",
    "\n",
    "final_df_array = mat\n",
    "prediction = kmeans.predict(mat)\n",
    "n_feats = 20\n",
    "dfs = get_top_features_cluster(final_df_array, prediction, n_feats)\n",
    "plotWords(dfs, 13)"
   ]
  },
  {
   "cell_type": "code",
   "execution_count": null,
   "id": "8fe5cf84",
   "metadata": {},
   "outputs": [],
   "source": [
    "kmeans = KMeans(n_clusters=5, init='k-means++', max_iter=500, n_init=10, random_state=0)\n",
    "pred_y = kmeans.fit_predict(mat)\n",
    "plt.scatter(mat[:,0], mat[:,1])\n",
    "plt.scatter(kmeans.cluster_centers_[:, 0], kmeans.cluster_centers_[:, 1], s=300, c='red')\n",
    "plt.show()"
   ]
  },
  {
   "cell_type": "code",
   "execution_count": null,
   "id": "3764a8d8",
   "metadata": {},
   "outputs": [],
   "source": []
  }
 ],
 "metadata": {
  "kernelspec": {
   "display_name": "Python 3 (ipykernel)",
   "language": "python",
   "name": "python3"
  },
  "language_info": {
   "codemirror_mode": {
    "name": "ipython",
    "version": 3
   },
   "file_extension": ".py",
   "mimetype": "text/x-python",
   "name": "python",
   "nbconvert_exporter": "python",
   "pygments_lexer": "ipython3",
   "version": "3.9.7"
  }
 },
 "nbformat": 4,
 "nbformat_minor": 5
}
