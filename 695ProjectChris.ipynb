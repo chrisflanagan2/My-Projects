{
  "nbformat": 4,
  "nbformat_minor": 0,
  "metadata": {
    "colab": {
      "provenance": [],
      "collapsed_sections": []
    },
    "kernelspec": {
      "name": "python3",
      "display_name": "Python 3"
    },
    "language_info": {
      "name": "python"
    }
  },
  "cells": [
    {
      "cell_type": "code",
      "execution_count": null,
      "metadata": {
        "id": "VJ27QoAGI9tS"
      },
      "outputs": [],
      "source": [
        "import pandas as pd\n",
        "import numpy as np\n",
        "import matplotlib.pyplot as plt\n",
        "import os\n",
        "import keras\n",
        "import tensorflow"
      ]
    },
    {
      "cell_type": "code",
      "source": [
        "link = 'https://archive.ics.uci.edu/ml/machine-learning-databases/00601/ai4i2020.csv'\n",
        "df = pd.read_csv(link)"
      ],
      "metadata": {
        "id": "IBPb3jGBN-Je"
      },
      "execution_count": null,
      "outputs": []
    },
    {
      "cell_type": "code",
      "source": [
        "df.info()"
      ],
      "metadata": {
        "colab": {
          "base_uri": "https://localhost:8080/"
        },
        "id": "IRxKxWnclQc2",
        "outputId": "276e0b69-e646-4040-9372-600b75ee6cb9"
      },
      "execution_count": null,
      "outputs": [
        {
          "output_type": "stream",
          "name": "stdout",
          "text": [
            "<class 'pandas.core.frame.DataFrame'>\n",
            "RangeIndex: 10000 entries, 0 to 9999\n",
            "Data columns (total 14 columns):\n",
            " #   Column                   Non-Null Count  Dtype  \n",
            "---  ------                   --------------  -----  \n",
            " 0   UDI                      10000 non-null  int64  \n",
            " 1   Product ID               10000 non-null  object \n",
            " 2   Type                     10000 non-null  object \n",
            " 3   Air temperature [K]      10000 non-null  float64\n",
            " 4   Process temperature [K]  10000 non-null  float64\n",
            " 5   Rotational speed [rpm]   10000 non-null  int64  \n",
            " 6   Torque [Nm]              10000 non-null  float64\n",
            " 7   Tool wear [min]          10000 non-null  int64  \n",
            " 8   Machine failure          10000 non-null  int64  \n",
            " 9   TWF                      10000 non-null  int64  \n",
            " 10  HDF                      10000 non-null  int64  \n",
            " 11  PWF                      10000 non-null  int64  \n",
            " 12  OSF                      10000 non-null  int64  \n",
            " 13  RNF                      10000 non-null  int64  \n",
            "dtypes: float64(3), int64(9), object(2)\n",
            "memory usage: 1.1+ MB\n"
          ]
        }
      ]
    },
    {
      "cell_type": "markdown",
      "source": [
        "we will one hot encode the type column"
      ],
      "metadata": {
        "id": "LWrbvhfLw7LT"
      }
    },
    {
      "cell_type": "code",
      "source": [
        "newType = pd.get_dummies(df.Type, prefix='ProductID')\n",
        "print(newType.head())"
      ],
      "metadata": {
        "id": "NmOrgRF9yL1w",
        "colab": {
          "base_uri": "https://localhost:8080/"
        },
        "outputId": "aadfb85b-e3d5-4ed2-b197-65474f6f2818"
      },
      "execution_count": null,
      "outputs": [
        {
          "output_type": "stream",
          "name": "stdout",
          "text": [
            "   ProductID_H  ProductID_L  ProductID_M\n",
            "0            0            0            1\n",
            "1            0            1            0\n",
            "2            0            1            0\n",
            "3            0            1            0\n",
            "4            0            1            0\n"
          ]
        }
      ]
    },
    {
      "cell_type": "code",
      "source": [
        "df = df.drop(['UDI','Type','Product ID','TWF','HDF','PWF','OSF','RNF', 'Machine failure'], axis = 1)\n"
      ],
      "metadata": {
        "id": "06RZaDTe-ZYo"
      },
      "execution_count": null,
      "outputs": []
    },
    {
      "cell_type": "code",
      "source": [
        "df_new = pd.read_csv(link)\n",
        "failure = []\n",
        "\n",
        "for i in range(df_new.shape[0]):\n",
        "    if df_new.loc[i,'TWF'] == 1:\n",
        "        failure.append('TWF')\n",
        "    elif df_new.loc[i,'HDF'] == 1:\n",
        "        failure.append('HDF')\n",
        "    elif df_new.loc[i,'PWF'] == 1:\n",
        "        failure.append('PWF')\n",
        "    elif df_new.loc[i,'OSF'] == 1:\n",
        "        failure.append('OSF')\n",
        "    elif df_new.loc[i,'RNF'] == 1:\n",
        "        failure.append('RNF')\n",
        "    else: \n",
        "        failure.append('No Failure')\n",
        "\n",
        "df_new[\"Failure\"] = failure"
      ],
      "metadata": {
        "id": "V_Wnwr8jvjlE"
      },
      "execution_count": null,
      "outputs": []
    },
    {
      "cell_type": "code",
      "source": [
        "failure = pd.DataFrame(df_new[\"Failure\"])\n",
        "failure"
      ],
      "metadata": {
        "colab": {
          "base_uri": "https://localhost:8080/",
          "height": 424
        },
        "id": "xJk17Was29dg",
        "outputId": "ab159dd4-31e6-41f4-8fa2-4fe312cc0294"
      },
      "execution_count": null,
      "outputs": [
        {
          "output_type": "execute_result",
          "data": {
            "text/plain": [
              "         Failure\n",
              "0     No Failure\n",
              "1     No Failure\n",
              "2     No Failure\n",
              "3     No Failure\n",
              "4     No Failure\n",
              "...          ...\n",
              "9995  No Failure\n",
              "9996  No Failure\n",
              "9997  No Failure\n",
              "9998  No Failure\n",
              "9999  No Failure\n",
              "\n",
              "[10000 rows x 1 columns]"
            ],
            "text/html": [
              "\n",
              "  <div id=\"df-5867c46f-a31b-48c9-90d7-c17313ecbe6e\">\n",
              "    <div class=\"colab-df-container\">\n",
              "      <div>\n",
              "<style scoped>\n",
              "    .dataframe tbody tr th:only-of-type {\n",
              "        vertical-align: middle;\n",
              "    }\n",
              "\n",
              "    .dataframe tbody tr th {\n",
              "        vertical-align: top;\n",
              "    }\n",
              "\n",
              "    .dataframe thead th {\n",
              "        text-align: right;\n",
              "    }\n",
              "</style>\n",
              "<table border=\"1\" class=\"dataframe\">\n",
              "  <thead>\n",
              "    <tr style=\"text-align: right;\">\n",
              "      <th></th>\n",
              "      <th>Failure</th>\n",
              "    </tr>\n",
              "  </thead>\n",
              "  <tbody>\n",
              "    <tr>\n",
              "      <th>0</th>\n",
              "      <td>No Failure</td>\n",
              "    </tr>\n",
              "    <tr>\n",
              "      <th>1</th>\n",
              "      <td>No Failure</td>\n",
              "    </tr>\n",
              "    <tr>\n",
              "      <th>2</th>\n",
              "      <td>No Failure</td>\n",
              "    </tr>\n",
              "    <tr>\n",
              "      <th>3</th>\n",
              "      <td>No Failure</td>\n",
              "    </tr>\n",
              "    <tr>\n",
              "      <th>4</th>\n",
              "      <td>No Failure</td>\n",
              "    </tr>\n",
              "    <tr>\n",
              "      <th>...</th>\n",
              "      <td>...</td>\n",
              "    </tr>\n",
              "    <tr>\n",
              "      <th>9995</th>\n",
              "      <td>No Failure</td>\n",
              "    </tr>\n",
              "    <tr>\n",
              "      <th>9996</th>\n",
              "      <td>No Failure</td>\n",
              "    </tr>\n",
              "    <tr>\n",
              "      <th>9997</th>\n",
              "      <td>No Failure</td>\n",
              "    </tr>\n",
              "    <tr>\n",
              "      <th>9998</th>\n",
              "      <td>No Failure</td>\n",
              "    </tr>\n",
              "    <tr>\n",
              "      <th>9999</th>\n",
              "      <td>No Failure</td>\n",
              "    </tr>\n",
              "  </tbody>\n",
              "</table>\n",
              "<p>10000 rows × 1 columns</p>\n",
              "</div>\n",
              "      <button class=\"colab-df-convert\" onclick=\"convertToInteractive('df-5867c46f-a31b-48c9-90d7-c17313ecbe6e')\"\n",
              "              title=\"Convert this dataframe to an interactive table.\"\n",
              "              style=\"display:none;\">\n",
              "        \n",
              "  <svg xmlns=\"http://www.w3.org/2000/svg\" height=\"24px\"viewBox=\"0 0 24 24\"\n",
              "       width=\"24px\">\n",
              "    <path d=\"M0 0h24v24H0V0z\" fill=\"none\"/>\n",
              "    <path d=\"M18.56 5.44l.94 2.06.94-2.06 2.06-.94-2.06-.94-.94-2.06-.94 2.06-2.06.94zm-11 1L8.5 8.5l.94-2.06 2.06-.94-2.06-.94L8.5 2.5l-.94 2.06-2.06.94zm10 10l.94 2.06.94-2.06 2.06-.94-2.06-.94-.94-2.06-.94 2.06-2.06.94z\"/><path d=\"M17.41 7.96l-1.37-1.37c-.4-.4-.92-.59-1.43-.59-.52 0-1.04.2-1.43.59L10.3 9.45l-7.72 7.72c-.78.78-.78 2.05 0 2.83L4 21.41c.39.39.9.59 1.41.59.51 0 1.02-.2 1.41-.59l7.78-7.78 2.81-2.81c.8-.78.8-2.07 0-2.86zM5.41 20L4 18.59l7.72-7.72 1.47 1.35L5.41 20z\"/>\n",
              "  </svg>\n",
              "      </button>\n",
              "      \n",
              "  <style>\n",
              "    .colab-df-container {\n",
              "      display:flex;\n",
              "      flex-wrap:wrap;\n",
              "      gap: 12px;\n",
              "    }\n",
              "\n",
              "    .colab-df-convert {\n",
              "      background-color: #E8F0FE;\n",
              "      border: none;\n",
              "      border-radius: 50%;\n",
              "      cursor: pointer;\n",
              "      display: none;\n",
              "      fill: #1967D2;\n",
              "      height: 32px;\n",
              "      padding: 0 0 0 0;\n",
              "      width: 32px;\n",
              "    }\n",
              "\n",
              "    .colab-df-convert:hover {\n",
              "      background-color: #E2EBFA;\n",
              "      box-shadow: 0px 1px 2px rgba(60, 64, 67, 0.3), 0px 1px 3px 1px rgba(60, 64, 67, 0.15);\n",
              "      fill: #174EA6;\n",
              "    }\n",
              "\n",
              "    [theme=dark] .colab-df-convert {\n",
              "      background-color: #3B4455;\n",
              "      fill: #D2E3FC;\n",
              "    }\n",
              "\n",
              "    [theme=dark] .colab-df-convert:hover {\n",
              "      background-color: #434B5C;\n",
              "      box-shadow: 0px 1px 3px 1px rgba(0, 0, 0, 0.15);\n",
              "      filter: drop-shadow(0px 1px 2px rgba(0, 0, 0, 0.3));\n",
              "      fill: #FFFFFF;\n",
              "    }\n",
              "  </style>\n",
              "\n",
              "      <script>\n",
              "        const buttonEl =\n",
              "          document.querySelector('#df-5867c46f-a31b-48c9-90d7-c17313ecbe6e button.colab-df-convert');\n",
              "        buttonEl.style.display =\n",
              "          google.colab.kernel.accessAllowed ? 'block' : 'none';\n",
              "\n",
              "        async function convertToInteractive(key) {\n",
              "          const element = document.querySelector('#df-5867c46f-a31b-48c9-90d7-c17313ecbe6e');\n",
              "          const dataTable =\n",
              "            await google.colab.kernel.invokeFunction('convertToInteractive',\n",
              "                                                     [key], {});\n",
              "          if (!dataTable) return;\n",
              "\n",
              "          const docLinkHtml = 'Like what you see? Visit the ' +\n",
              "            '<a target=\"_blank\" href=https://colab.research.google.com/notebooks/data_table.ipynb>data table notebook</a>'\n",
              "            + ' to learn more about interactive tables.';\n",
              "          element.innerHTML = '';\n",
              "          dataTable['output_type'] = 'display_data';\n",
              "          await google.colab.output.renderOutput(dataTable, element);\n",
              "          const docLink = document.createElement('div');\n",
              "          docLink.innerHTML = docLinkHtml;\n",
              "          element.appendChild(docLink);\n",
              "        }\n",
              "      </script>\n",
              "    </div>\n",
              "  </div>\n",
              "  "
            ]
          },
          "metadata": {},
          "execution_count": 8
        }
      ]
    },
    {
      "cell_type": "code",
      "source": [
        "failure.value_counts()"
      ],
      "metadata": {
        "id": "u2ATeXYlLqNt",
        "outputId": "73f74354-5044-48b3-d092-d5582a2c9202",
        "colab": {
          "base_uri": "https://localhost:8080/"
        }
      },
      "execution_count": null,
      "outputs": [
        {
          "output_type": "execute_result",
          "data": {
            "text/plain": [
              "Failure   \n",
              "No Failure    9652\n",
              "HDF            115\n",
              "PWF             91\n",
              "OSF             78\n",
              "TWF             46\n",
              "RNF             18\n",
              "dtype: int64"
            ]
          },
          "metadata": {},
          "execution_count": 9
        }
      ]
    },
    {
      "cell_type": "code",
      "source": [
        "df = pd.concat([df,newType, failure],axis=1)"
      ],
      "metadata": {
        "id": "cPB2PGck_An_"
      },
      "execution_count": null,
      "outputs": []
    },
    {
      "cell_type": "code",
      "source": [
        "df.head()"
      ],
      "metadata": {
        "colab": {
          "base_uri": "https://localhost:8080/",
          "height": 206
        },
        "id": "RuIEP-fi_2gX",
        "outputId": "3fdfb985-0800-44a7-fc29-ca855ad43150"
      },
      "execution_count": null,
      "outputs": [
        {
          "output_type": "execute_result",
          "data": {
            "text/plain": [
              "   Air temperature [K]  Process temperature [K]  Rotational speed [rpm]  \\\n",
              "0                298.1                    308.6                    1551   \n",
              "1                298.2                    308.7                    1408   \n",
              "2                298.1                    308.5                    1498   \n",
              "3                298.2                    308.6                    1433   \n",
              "4                298.2                    308.7                    1408   \n",
              "\n",
              "   Torque [Nm]  Tool wear [min]  ProductID_H  ProductID_L  ProductID_M  \\\n",
              "0         42.8                0            0            0            1   \n",
              "1         46.3                3            0            1            0   \n",
              "2         49.4                5            0            1            0   \n",
              "3         39.5                7            0            1            0   \n",
              "4         40.0                9            0            1            0   \n",
              "\n",
              "      Failure  \n",
              "0  No Failure  \n",
              "1  No Failure  \n",
              "2  No Failure  \n",
              "3  No Failure  \n",
              "4  No Failure  "
            ],
            "text/html": [
              "\n",
              "  <div id=\"df-d7e293c1-67fe-4d22-9b9d-63eec5a07e92\">\n",
              "    <div class=\"colab-df-container\">\n",
              "      <div>\n",
              "<style scoped>\n",
              "    .dataframe tbody tr th:only-of-type {\n",
              "        vertical-align: middle;\n",
              "    }\n",
              "\n",
              "    .dataframe tbody tr th {\n",
              "        vertical-align: top;\n",
              "    }\n",
              "\n",
              "    .dataframe thead th {\n",
              "        text-align: right;\n",
              "    }\n",
              "</style>\n",
              "<table border=\"1\" class=\"dataframe\">\n",
              "  <thead>\n",
              "    <tr style=\"text-align: right;\">\n",
              "      <th></th>\n",
              "      <th>Air temperature [K]</th>\n",
              "      <th>Process temperature [K]</th>\n",
              "      <th>Rotational speed [rpm]</th>\n",
              "      <th>Torque [Nm]</th>\n",
              "      <th>Tool wear [min]</th>\n",
              "      <th>ProductID_H</th>\n",
              "      <th>ProductID_L</th>\n",
              "      <th>ProductID_M</th>\n",
              "      <th>Failure</th>\n",
              "    </tr>\n",
              "  </thead>\n",
              "  <tbody>\n",
              "    <tr>\n",
              "      <th>0</th>\n",
              "      <td>298.1</td>\n",
              "      <td>308.6</td>\n",
              "      <td>1551</td>\n",
              "      <td>42.8</td>\n",
              "      <td>0</td>\n",
              "      <td>0</td>\n",
              "      <td>0</td>\n",
              "      <td>1</td>\n",
              "      <td>No Failure</td>\n",
              "    </tr>\n",
              "    <tr>\n",
              "      <th>1</th>\n",
              "      <td>298.2</td>\n",
              "      <td>308.7</td>\n",
              "      <td>1408</td>\n",
              "      <td>46.3</td>\n",
              "      <td>3</td>\n",
              "      <td>0</td>\n",
              "      <td>1</td>\n",
              "      <td>0</td>\n",
              "      <td>No Failure</td>\n",
              "    </tr>\n",
              "    <tr>\n",
              "      <th>2</th>\n",
              "      <td>298.1</td>\n",
              "      <td>308.5</td>\n",
              "      <td>1498</td>\n",
              "      <td>49.4</td>\n",
              "      <td>5</td>\n",
              "      <td>0</td>\n",
              "      <td>1</td>\n",
              "      <td>0</td>\n",
              "      <td>No Failure</td>\n",
              "    </tr>\n",
              "    <tr>\n",
              "      <th>3</th>\n",
              "      <td>298.2</td>\n",
              "      <td>308.6</td>\n",
              "      <td>1433</td>\n",
              "      <td>39.5</td>\n",
              "      <td>7</td>\n",
              "      <td>0</td>\n",
              "      <td>1</td>\n",
              "      <td>0</td>\n",
              "      <td>No Failure</td>\n",
              "    </tr>\n",
              "    <tr>\n",
              "      <th>4</th>\n",
              "      <td>298.2</td>\n",
              "      <td>308.7</td>\n",
              "      <td>1408</td>\n",
              "      <td>40.0</td>\n",
              "      <td>9</td>\n",
              "      <td>0</td>\n",
              "      <td>1</td>\n",
              "      <td>0</td>\n",
              "      <td>No Failure</td>\n",
              "    </tr>\n",
              "  </tbody>\n",
              "</table>\n",
              "</div>\n",
              "      <button class=\"colab-df-convert\" onclick=\"convertToInteractive('df-d7e293c1-67fe-4d22-9b9d-63eec5a07e92')\"\n",
              "              title=\"Convert this dataframe to an interactive table.\"\n",
              "              style=\"display:none;\">\n",
              "        \n",
              "  <svg xmlns=\"http://www.w3.org/2000/svg\" height=\"24px\"viewBox=\"0 0 24 24\"\n",
              "       width=\"24px\">\n",
              "    <path d=\"M0 0h24v24H0V0z\" fill=\"none\"/>\n",
              "    <path d=\"M18.56 5.44l.94 2.06.94-2.06 2.06-.94-2.06-.94-.94-2.06-.94 2.06-2.06.94zm-11 1L8.5 8.5l.94-2.06 2.06-.94-2.06-.94L8.5 2.5l-.94 2.06-2.06.94zm10 10l.94 2.06.94-2.06 2.06-.94-2.06-.94-.94-2.06-.94 2.06-2.06.94z\"/><path d=\"M17.41 7.96l-1.37-1.37c-.4-.4-.92-.59-1.43-.59-.52 0-1.04.2-1.43.59L10.3 9.45l-7.72 7.72c-.78.78-.78 2.05 0 2.83L4 21.41c.39.39.9.59 1.41.59.51 0 1.02-.2 1.41-.59l7.78-7.78 2.81-2.81c.8-.78.8-2.07 0-2.86zM5.41 20L4 18.59l7.72-7.72 1.47 1.35L5.41 20z\"/>\n",
              "  </svg>\n",
              "      </button>\n",
              "      \n",
              "  <style>\n",
              "    .colab-df-container {\n",
              "      display:flex;\n",
              "      flex-wrap:wrap;\n",
              "      gap: 12px;\n",
              "    }\n",
              "\n",
              "    .colab-df-convert {\n",
              "      background-color: #E8F0FE;\n",
              "      border: none;\n",
              "      border-radius: 50%;\n",
              "      cursor: pointer;\n",
              "      display: none;\n",
              "      fill: #1967D2;\n",
              "      height: 32px;\n",
              "      padding: 0 0 0 0;\n",
              "      width: 32px;\n",
              "    }\n",
              "\n",
              "    .colab-df-convert:hover {\n",
              "      background-color: #E2EBFA;\n",
              "      box-shadow: 0px 1px 2px rgba(60, 64, 67, 0.3), 0px 1px 3px 1px rgba(60, 64, 67, 0.15);\n",
              "      fill: #174EA6;\n",
              "    }\n",
              "\n",
              "    [theme=dark] .colab-df-convert {\n",
              "      background-color: #3B4455;\n",
              "      fill: #D2E3FC;\n",
              "    }\n",
              "\n",
              "    [theme=dark] .colab-df-convert:hover {\n",
              "      background-color: #434B5C;\n",
              "      box-shadow: 0px 1px 3px 1px rgba(0, 0, 0, 0.15);\n",
              "      filter: drop-shadow(0px 1px 2px rgba(0, 0, 0, 0.3));\n",
              "      fill: #FFFFFF;\n",
              "    }\n",
              "  </style>\n",
              "\n",
              "      <script>\n",
              "        const buttonEl =\n",
              "          document.querySelector('#df-d7e293c1-67fe-4d22-9b9d-63eec5a07e92 button.colab-df-convert');\n",
              "        buttonEl.style.display =\n",
              "          google.colab.kernel.accessAllowed ? 'block' : 'none';\n",
              "\n",
              "        async function convertToInteractive(key) {\n",
              "          const element = document.querySelector('#df-d7e293c1-67fe-4d22-9b9d-63eec5a07e92');\n",
              "          const dataTable =\n",
              "            await google.colab.kernel.invokeFunction('convertToInteractive',\n",
              "                                                     [key], {});\n",
              "          if (!dataTable) return;\n",
              "\n",
              "          const docLinkHtml = 'Like what you see? Visit the ' +\n",
              "            '<a target=\"_blank\" href=https://colab.research.google.com/notebooks/data_table.ipynb>data table notebook</a>'\n",
              "            + ' to learn more about interactive tables.';\n",
              "          element.innerHTML = '';\n",
              "          dataTable['output_type'] = 'display_data';\n",
              "          await google.colab.output.renderOutput(dataTable, element);\n",
              "          const docLink = document.createElement('div');\n",
              "          docLink.innerHTML = docLinkHtml;\n",
              "          element.appendChild(docLink);\n",
              "        }\n",
              "      </script>\n",
              "    </div>\n",
              "  </div>\n",
              "  "
            ]
          },
          "metadata": {},
          "execution_count": 11
        }
      ]
    },
    {
      "cell_type": "code",
      "source": [
        "df['ProductID_H'] = df['ProductID_H'].astype(int)\n",
        "df['ProductID_L'] = df['ProductID_L'].astype(int)\n",
        "df['ProductID_M'] = df['ProductID_M'].astype(int)"
      ],
      "metadata": {
        "id": "96LgMJOel0FE"
      },
      "execution_count": null,
      "outputs": []
    },
    {
      "cell_type": "markdown",
      "source": [
        "We only have 339 instances of failure out of 10000 total insances. Therefore we have a highly imbalanced data set. I am using random over sampleing to combat this issue, as ANNs do not perform well with highly imbalanced data."
      ],
      "metadata": {
        "id": "zY0P_QZlbsjE"
      }
    },
    {
      "cell_type": "markdown",
      "source": [
        "Fitting an artificial neural network"
      ],
      "metadata": {
        "id": "KW3ssiAo4_-4"
      }
    },
    {
      "cell_type": "code",
      "source": [
        "X = df.drop('Failure',axis=1)\n",
        "y = df['Failure']\n",
        "col_names = X.columns\n",
        "print(X.shape, y.shape)\n"
      ],
      "metadata": {
        "id": "HqVSEe6h3LKf",
        "colab": {
          "base_uri": "https://localhost:8080/"
        },
        "outputId": "d0e2325f-114d-42d7-bad9-7fdc74b572f6"
      },
      "execution_count": null,
      "outputs": [
        {
          "output_type": "stream",
          "name": "stdout",
          "text": [
            "(10000, 8) (10000,)\n"
          ]
        }
      ]
    },
    {
      "cell_type": "code",
      "source": [
        "from sklearn.model_selection import train_test_split\n",
        "X_train, X_test, y_train, y_test = train_test_split(X, y, test_size=0.30)"
      ],
      "metadata": {
        "id": "ux8SP8VD8qlx"
      },
      "execution_count": null,
      "outputs": []
    },
    {
      "cell_type": "code",
      "source": [
        "from imblearn.over_sampling import RandomOverSampler\n",
        "ros = RandomOverSampler(random_state=42)\n",
        "X_train_ros, y_train_ros = ros.fit_resample(X_train, y_train)\n",
        "print(X_train_ros.shape, y_train_ros.shape)"
      ],
      "metadata": {
        "id": "I1Ac6VMT2ids",
        "colab": {
          "base_uri": "https://localhost:8080/"
        },
        "outputId": "379defe4-d3ea-4213-95ec-440441a1c7c0"
      },
      "execution_count": null,
      "outputs": [
        {
          "output_type": "stream",
          "name": "stdout",
          "text": [
            "(40494, 8) (40494,)\n"
          ]
        }
      ]
    },
    {
      "cell_type": "code",
      "source": [
        "pd.DataFrame(y_train_ros)"
      ],
      "metadata": {
        "id": "iyrINDMc5W69",
        "outputId": "d68805ce-5d5a-40b5-f300-9e02e3d29b76",
        "colab": {
          "base_uri": "https://localhost:8080/",
          "height": 424
        }
      },
      "execution_count": null,
      "outputs": [
        {
          "output_type": "execute_result",
          "data": {
            "text/plain": [
              "          Failure\n",
              "0             RNF\n",
              "1      No Failure\n",
              "2      No Failure\n",
              "3      No Failure\n",
              "4      No Failure\n",
              "...           ...\n",
              "40489         TWF\n",
              "40490         TWF\n",
              "40491         TWF\n",
              "40492         TWF\n",
              "40493         TWF\n",
              "\n",
              "[40494 rows x 1 columns]"
            ],
            "text/html": [
              "\n",
              "  <div id=\"df-1ea80410-5b2a-4623-9498-6f6e2dc0f2da\">\n",
              "    <div class=\"colab-df-container\">\n",
              "      <div>\n",
              "<style scoped>\n",
              "    .dataframe tbody tr th:only-of-type {\n",
              "        vertical-align: middle;\n",
              "    }\n",
              "\n",
              "    .dataframe tbody tr th {\n",
              "        vertical-align: top;\n",
              "    }\n",
              "\n",
              "    .dataframe thead th {\n",
              "        text-align: right;\n",
              "    }\n",
              "</style>\n",
              "<table border=\"1\" class=\"dataframe\">\n",
              "  <thead>\n",
              "    <tr style=\"text-align: right;\">\n",
              "      <th></th>\n",
              "      <th>Failure</th>\n",
              "    </tr>\n",
              "  </thead>\n",
              "  <tbody>\n",
              "    <tr>\n",
              "      <th>0</th>\n",
              "      <td>RNF</td>\n",
              "    </tr>\n",
              "    <tr>\n",
              "      <th>1</th>\n",
              "      <td>No Failure</td>\n",
              "    </tr>\n",
              "    <tr>\n",
              "      <th>2</th>\n",
              "      <td>No Failure</td>\n",
              "    </tr>\n",
              "    <tr>\n",
              "      <th>3</th>\n",
              "      <td>No Failure</td>\n",
              "    </tr>\n",
              "    <tr>\n",
              "      <th>4</th>\n",
              "      <td>No Failure</td>\n",
              "    </tr>\n",
              "    <tr>\n",
              "      <th>...</th>\n",
              "      <td>...</td>\n",
              "    </tr>\n",
              "    <tr>\n",
              "      <th>40489</th>\n",
              "      <td>TWF</td>\n",
              "    </tr>\n",
              "    <tr>\n",
              "      <th>40490</th>\n",
              "      <td>TWF</td>\n",
              "    </tr>\n",
              "    <tr>\n",
              "      <th>40491</th>\n",
              "      <td>TWF</td>\n",
              "    </tr>\n",
              "    <tr>\n",
              "      <th>40492</th>\n",
              "      <td>TWF</td>\n",
              "    </tr>\n",
              "    <tr>\n",
              "      <th>40493</th>\n",
              "      <td>TWF</td>\n",
              "    </tr>\n",
              "  </tbody>\n",
              "</table>\n",
              "<p>40494 rows × 1 columns</p>\n",
              "</div>\n",
              "      <button class=\"colab-df-convert\" onclick=\"convertToInteractive('df-1ea80410-5b2a-4623-9498-6f6e2dc0f2da')\"\n",
              "              title=\"Convert this dataframe to an interactive table.\"\n",
              "              style=\"display:none;\">\n",
              "        \n",
              "  <svg xmlns=\"http://www.w3.org/2000/svg\" height=\"24px\"viewBox=\"0 0 24 24\"\n",
              "       width=\"24px\">\n",
              "    <path d=\"M0 0h24v24H0V0z\" fill=\"none\"/>\n",
              "    <path d=\"M18.56 5.44l.94 2.06.94-2.06 2.06-.94-2.06-.94-.94-2.06-.94 2.06-2.06.94zm-11 1L8.5 8.5l.94-2.06 2.06-.94-2.06-.94L8.5 2.5l-.94 2.06-2.06.94zm10 10l.94 2.06.94-2.06 2.06-.94-2.06-.94-.94-2.06-.94 2.06-2.06.94z\"/><path d=\"M17.41 7.96l-1.37-1.37c-.4-.4-.92-.59-1.43-.59-.52 0-1.04.2-1.43.59L10.3 9.45l-7.72 7.72c-.78.78-.78 2.05 0 2.83L4 21.41c.39.39.9.59 1.41.59.51 0 1.02-.2 1.41-.59l7.78-7.78 2.81-2.81c.8-.78.8-2.07 0-2.86zM5.41 20L4 18.59l7.72-7.72 1.47 1.35L5.41 20z\"/>\n",
              "  </svg>\n",
              "      </button>\n",
              "      \n",
              "  <style>\n",
              "    .colab-df-container {\n",
              "      display:flex;\n",
              "      flex-wrap:wrap;\n",
              "      gap: 12px;\n",
              "    }\n",
              "\n",
              "    .colab-df-convert {\n",
              "      background-color: #E8F0FE;\n",
              "      border: none;\n",
              "      border-radius: 50%;\n",
              "      cursor: pointer;\n",
              "      display: none;\n",
              "      fill: #1967D2;\n",
              "      height: 32px;\n",
              "      padding: 0 0 0 0;\n",
              "      width: 32px;\n",
              "    }\n",
              "\n",
              "    .colab-df-convert:hover {\n",
              "      background-color: #E2EBFA;\n",
              "      box-shadow: 0px 1px 2px rgba(60, 64, 67, 0.3), 0px 1px 3px 1px rgba(60, 64, 67, 0.15);\n",
              "      fill: #174EA6;\n",
              "    }\n",
              "\n",
              "    [theme=dark] .colab-df-convert {\n",
              "      background-color: #3B4455;\n",
              "      fill: #D2E3FC;\n",
              "    }\n",
              "\n",
              "    [theme=dark] .colab-df-convert:hover {\n",
              "      background-color: #434B5C;\n",
              "      box-shadow: 0px 1px 3px 1px rgba(0, 0, 0, 0.15);\n",
              "      filter: drop-shadow(0px 1px 2px rgba(0, 0, 0, 0.3));\n",
              "      fill: #FFFFFF;\n",
              "    }\n",
              "  </style>\n",
              "\n",
              "      <script>\n",
              "        const buttonEl =\n",
              "          document.querySelector('#df-1ea80410-5b2a-4623-9498-6f6e2dc0f2da button.colab-df-convert');\n",
              "        buttonEl.style.display =\n",
              "          google.colab.kernel.accessAllowed ? 'block' : 'none';\n",
              "\n",
              "        async function convertToInteractive(key) {\n",
              "          const element = document.querySelector('#df-1ea80410-5b2a-4623-9498-6f6e2dc0f2da');\n",
              "          const dataTable =\n",
              "            await google.colab.kernel.invokeFunction('convertToInteractive',\n",
              "                                                     [key], {});\n",
              "          if (!dataTable) return;\n",
              "\n",
              "          const docLinkHtml = 'Like what you see? Visit the ' +\n",
              "            '<a target=\"_blank\" href=https://colab.research.google.com/notebooks/data_table.ipynb>data table notebook</a>'\n",
              "            + ' to learn more about interactive tables.';\n",
              "          element.innerHTML = '';\n",
              "          dataTable['output_type'] = 'display_data';\n",
              "          await google.colab.output.renderOutput(dataTable, element);\n",
              "          const docLink = document.createElement('div');\n",
              "          docLink.innerHTML = docLinkHtml;\n",
              "          element.appendChild(docLink);\n",
              "        }\n",
              "      </script>\n",
              "    </div>\n",
              "  </div>\n",
              "  "
            ]
          },
          "metadata": {},
          "execution_count": 17
        }
      ]
    },
    {
      "cell_type": "code",
      "source": [
        "o = pd.DataFrame(y_train_ros)\n",
        "o.value_counts()"
      ],
      "metadata": {
        "id": "rgfHH4kNLxtl",
        "outputId": "1ba4906f-7dbe-41ae-a12b-f406de1529af",
        "colab": {
          "base_uri": "https://localhost:8080/"
        }
      },
      "execution_count": null,
      "outputs": [
        {
          "output_type": "execute_result",
          "data": {
            "text/plain": [
              "Failure   \n",
              "HDF           6749\n",
              "No Failure    6749\n",
              "OSF           6749\n",
              "PWF           6749\n",
              "RNF           6749\n",
              "TWF           6749\n",
              "dtype: int64"
            ]
          },
          "metadata": {},
          "execution_count": 18
        }
      ]
    },
    {
      "cell_type": "code",
      "source": [
        "y_train_enc = pd.get_dummies(y_train_ros)\n",
        "y_train_enc\n"
      ],
      "metadata": {
        "colab": {
          "base_uri": "https://localhost:8080/",
          "height": 424
        },
        "id": "137hBfBC5xIO",
        "outputId": "bf17e438-c747-46dc-d91b-4f512fba529f"
      },
      "execution_count": null,
      "outputs": [
        {
          "output_type": "execute_result",
          "data": {
            "text/plain": [
              "       HDF  No Failure  OSF  PWF  RNF  TWF\n",
              "0        0           0    0    0    1    0\n",
              "1        0           1    0    0    0    0\n",
              "2        0           1    0    0    0    0\n",
              "3        0           1    0    0    0    0\n",
              "4        0           1    0    0    0    0\n",
              "...    ...         ...  ...  ...  ...  ...\n",
              "40489    0           0    0    0    0    1\n",
              "40490    0           0    0    0    0    1\n",
              "40491    0           0    0    0    0    1\n",
              "40492    0           0    0    0    0    1\n",
              "40493    0           0    0    0    0    1\n",
              "\n",
              "[40494 rows x 6 columns]"
            ],
            "text/html": [
              "\n",
              "  <div id=\"df-3ef0c86a-3c4f-4ee2-a80a-6991023d48de\">\n",
              "    <div class=\"colab-df-container\">\n",
              "      <div>\n",
              "<style scoped>\n",
              "    .dataframe tbody tr th:only-of-type {\n",
              "        vertical-align: middle;\n",
              "    }\n",
              "\n",
              "    .dataframe tbody tr th {\n",
              "        vertical-align: top;\n",
              "    }\n",
              "\n",
              "    .dataframe thead th {\n",
              "        text-align: right;\n",
              "    }\n",
              "</style>\n",
              "<table border=\"1\" class=\"dataframe\">\n",
              "  <thead>\n",
              "    <tr style=\"text-align: right;\">\n",
              "      <th></th>\n",
              "      <th>HDF</th>\n",
              "      <th>No Failure</th>\n",
              "      <th>OSF</th>\n",
              "      <th>PWF</th>\n",
              "      <th>RNF</th>\n",
              "      <th>TWF</th>\n",
              "    </tr>\n",
              "  </thead>\n",
              "  <tbody>\n",
              "    <tr>\n",
              "      <th>0</th>\n",
              "      <td>0</td>\n",
              "      <td>0</td>\n",
              "      <td>0</td>\n",
              "      <td>0</td>\n",
              "      <td>1</td>\n",
              "      <td>0</td>\n",
              "    </tr>\n",
              "    <tr>\n",
              "      <th>1</th>\n",
              "      <td>0</td>\n",
              "      <td>1</td>\n",
              "      <td>0</td>\n",
              "      <td>0</td>\n",
              "      <td>0</td>\n",
              "      <td>0</td>\n",
              "    </tr>\n",
              "    <tr>\n",
              "      <th>2</th>\n",
              "      <td>0</td>\n",
              "      <td>1</td>\n",
              "      <td>0</td>\n",
              "      <td>0</td>\n",
              "      <td>0</td>\n",
              "      <td>0</td>\n",
              "    </tr>\n",
              "    <tr>\n",
              "      <th>3</th>\n",
              "      <td>0</td>\n",
              "      <td>1</td>\n",
              "      <td>0</td>\n",
              "      <td>0</td>\n",
              "      <td>0</td>\n",
              "      <td>0</td>\n",
              "    </tr>\n",
              "    <tr>\n",
              "      <th>4</th>\n",
              "      <td>0</td>\n",
              "      <td>1</td>\n",
              "      <td>0</td>\n",
              "      <td>0</td>\n",
              "      <td>0</td>\n",
              "      <td>0</td>\n",
              "    </tr>\n",
              "    <tr>\n",
              "      <th>...</th>\n",
              "      <td>...</td>\n",
              "      <td>...</td>\n",
              "      <td>...</td>\n",
              "      <td>...</td>\n",
              "      <td>...</td>\n",
              "      <td>...</td>\n",
              "    </tr>\n",
              "    <tr>\n",
              "      <th>40489</th>\n",
              "      <td>0</td>\n",
              "      <td>0</td>\n",
              "      <td>0</td>\n",
              "      <td>0</td>\n",
              "      <td>0</td>\n",
              "      <td>1</td>\n",
              "    </tr>\n",
              "    <tr>\n",
              "      <th>40490</th>\n",
              "      <td>0</td>\n",
              "      <td>0</td>\n",
              "      <td>0</td>\n",
              "      <td>0</td>\n",
              "      <td>0</td>\n",
              "      <td>1</td>\n",
              "    </tr>\n",
              "    <tr>\n",
              "      <th>40491</th>\n",
              "      <td>0</td>\n",
              "      <td>0</td>\n",
              "      <td>0</td>\n",
              "      <td>0</td>\n",
              "      <td>0</td>\n",
              "      <td>1</td>\n",
              "    </tr>\n",
              "    <tr>\n",
              "      <th>40492</th>\n",
              "      <td>0</td>\n",
              "      <td>0</td>\n",
              "      <td>0</td>\n",
              "      <td>0</td>\n",
              "      <td>0</td>\n",
              "      <td>1</td>\n",
              "    </tr>\n",
              "    <tr>\n",
              "      <th>40493</th>\n",
              "      <td>0</td>\n",
              "      <td>0</td>\n",
              "      <td>0</td>\n",
              "      <td>0</td>\n",
              "      <td>0</td>\n",
              "      <td>1</td>\n",
              "    </tr>\n",
              "  </tbody>\n",
              "</table>\n",
              "<p>40494 rows × 6 columns</p>\n",
              "</div>\n",
              "      <button class=\"colab-df-convert\" onclick=\"convertToInteractive('df-3ef0c86a-3c4f-4ee2-a80a-6991023d48de')\"\n",
              "              title=\"Convert this dataframe to an interactive table.\"\n",
              "              style=\"display:none;\">\n",
              "        \n",
              "  <svg xmlns=\"http://www.w3.org/2000/svg\" height=\"24px\"viewBox=\"0 0 24 24\"\n",
              "       width=\"24px\">\n",
              "    <path d=\"M0 0h24v24H0V0z\" fill=\"none\"/>\n",
              "    <path d=\"M18.56 5.44l.94 2.06.94-2.06 2.06-.94-2.06-.94-.94-2.06-.94 2.06-2.06.94zm-11 1L8.5 8.5l.94-2.06 2.06-.94-2.06-.94L8.5 2.5l-.94 2.06-2.06.94zm10 10l.94 2.06.94-2.06 2.06-.94-2.06-.94-.94-2.06-.94 2.06-2.06.94z\"/><path d=\"M17.41 7.96l-1.37-1.37c-.4-.4-.92-.59-1.43-.59-.52 0-1.04.2-1.43.59L10.3 9.45l-7.72 7.72c-.78.78-.78 2.05 0 2.83L4 21.41c.39.39.9.59 1.41.59.51 0 1.02-.2 1.41-.59l7.78-7.78 2.81-2.81c.8-.78.8-2.07 0-2.86zM5.41 20L4 18.59l7.72-7.72 1.47 1.35L5.41 20z\"/>\n",
              "  </svg>\n",
              "      </button>\n",
              "      \n",
              "  <style>\n",
              "    .colab-df-container {\n",
              "      display:flex;\n",
              "      flex-wrap:wrap;\n",
              "      gap: 12px;\n",
              "    }\n",
              "\n",
              "    .colab-df-convert {\n",
              "      background-color: #E8F0FE;\n",
              "      border: none;\n",
              "      border-radius: 50%;\n",
              "      cursor: pointer;\n",
              "      display: none;\n",
              "      fill: #1967D2;\n",
              "      height: 32px;\n",
              "      padding: 0 0 0 0;\n",
              "      width: 32px;\n",
              "    }\n",
              "\n",
              "    .colab-df-convert:hover {\n",
              "      background-color: #E2EBFA;\n",
              "      box-shadow: 0px 1px 2px rgba(60, 64, 67, 0.3), 0px 1px 3px 1px rgba(60, 64, 67, 0.15);\n",
              "      fill: #174EA6;\n",
              "    }\n",
              "\n",
              "    [theme=dark] .colab-df-convert {\n",
              "      background-color: #3B4455;\n",
              "      fill: #D2E3FC;\n",
              "    }\n",
              "\n",
              "    [theme=dark] .colab-df-convert:hover {\n",
              "      background-color: #434B5C;\n",
              "      box-shadow: 0px 1px 3px 1px rgba(0, 0, 0, 0.15);\n",
              "      filter: drop-shadow(0px 1px 2px rgba(0, 0, 0, 0.3));\n",
              "      fill: #FFFFFF;\n",
              "    }\n",
              "  </style>\n",
              "\n",
              "      <script>\n",
              "        const buttonEl =\n",
              "          document.querySelector('#df-3ef0c86a-3c4f-4ee2-a80a-6991023d48de button.colab-df-convert');\n",
              "        buttonEl.style.display =\n",
              "          google.colab.kernel.accessAllowed ? 'block' : 'none';\n",
              "\n",
              "        async function convertToInteractive(key) {\n",
              "          const element = document.querySelector('#df-3ef0c86a-3c4f-4ee2-a80a-6991023d48de');\n",
              "          const dataTable =\n",
              "            await google.colab.kernel.invokeFunction('convertToInteractive',\n",
              "                                                     [key], {});\n",
              "          if (!dataTable) return;\n",
              "\n",
              "          const docLinkHtml = 'Like what you see? Visit the ' +\n",
              "            '<a target=\"_blank\" href=https://colab.research.google.com/notebooks/data_table.ipynb>data table notebook</a>'\n",
              "            + ' to learn more about interactive tables.';\n",
              "          element.innerHTML = '';\n",
              "          dataTable['output_type'] = 'display_data';\n",
              "          await google.colab.output.renderOutput(dataTable, element);\n",
              "          const docLink = document.createElement('div');\n",
              "          docLink.innerHTML = docLinkHtml;\n",
              "          element.appendChild(docLink);\n",
              "        }\n",
              "      </script>\n",
              "    </div>\n",
              "  </div>\n",
              "  "
            ]
          },
          "metadata": {},
          "execution_count": 19
        }
      ]
    },
    {
      "cell_type": "code",
      "source": [
        "y_train_enc.value_counts()"
      ],
      "metadata": {
        "id": "GHepwDV4ncSL",
        "outputId": "b831c186-0b83-4684-c839-a3bbd200afff",
        "colab": {
          "base_uri": "https://localhost:8080/"
        }
      },
      "execution_count": null,
      "outputs": [
        {
          "output_type": "execute_result",
          "data": {
            "text/plain": [
              "HDF  No Failure  OSF  PWF  RNF  TWF\n",
              "0    0           0    0    0    1      6749\n",
              "                           1    0      6749\n",
              "                      1    0    0      6749\n",
              "                 1    0    0    0      6749\n",
              "     1           0    0    0    0      6749\n",
              "1    0           0    0    0    0      6749\n",
              "dtype: int64"
            ]
          },
          "metadata": {},
          "execution_count": 20
        }
      ]
    },
    {
      "cell_type": "code",
      "source": [
        "from keras.models import Sequential\n",
        "from keras.layers import Dense, Activation,Dropout\n",
        "from keras.callbacks import ModelCheckpoint, EarlyStopping\n",
        "model = Sequential()\n",
        "model.add(Dense(64, input_shape=(X_train.shape[1],), activation='relu'))\n",
        "model.add(Dense(32, activation='relu'))\n",
        "model.add(Dropout(0.3))\n",
        "model.add(Dense(16, activation='relu'))\n",
        "model.add(Dense(8, activation='relu'))\n",
        "model.add(Dense(6, activation='softmax'))\n",
        "model.summary() \n",
        "\n",
        "# compile the model\n",
        "model.compile(optimizer='adam', \n",
        "              loss='categorical_crossentropy',\n",
        "              metrics=['accuracy'])\n",
        "\n",
        "\n",
        "es = EarlyStopping(monitor='val_accuracy', \n",
        "                                   mode='max',\n",
        "                                   patience=10,\n",
        "                                   restore_best_weights=True)\n",
        "\n",
        "history = model.fit(X_train_ros,\n",
        "                    y_train_enc,\n",
        "                    epochs=300, \n",
        "                    validation_split=0.2)"
      ],
      "metadata": {
        "id": "5BS-xgG5cctg"
      },
      "execution_count": null,
      "outputs": []
    },
    {
      "cell_type": "code",
      "source": [
        "plt.plot(history.epoch, history.history[\"loss\"], 'g', label='Training loss')\n",
        "plt.title('Training loss')\n",
        "plt.xlabel('Epochs')\n",
        "plt.ylabel('Loss')\n",
        "plt.legend()\n",
        "plt.show()\n"
      ],
      "metadata": {
        "colab": {
          "base_uri": "https://localhost:8080/",
          "height": 295
        },
        "id": "6M8WgIhD9HKl",
        "outputId": "a5a8b853-4077-450e-880c-108e9f8eba55"
      },
      "execution_count": null,
      "outputs": [
        {
          "output_type": "display_data",
          "data": {
            "text/plain": [
              "<Figure size 432x288 with 1 Axes>"
            ],
            "image/png": "[encoded data removed]"
          },
          "metadata": {
            "needs_background": "light"
          }
        }
      ]
    },
    {
      "cell_type": "code",
      "source": [
        "y_pred = model.predict(X_test)\n",
        "y_pred = np.argmax(y_pred, axis = -1)"
      ],
      "metadata": {
        "id": "-D1gi6fixOJo"
      },
      "execution_count": null,
      "outputs": []
    },
    {
      "cell_type": "code",
      "source": [
        "y_pred_enc = pd.get_dummies(y_pred)\n",
        "y_test_enc = pd.get_dummies(y_test)"
      ],
      "metadata": {
        "id": "elu49WYkP2TP"
      },
      "execution_count": null,
      "outputs": []
    },
    {
      "cell_type": "code",
      "source": [
        "print((y_test_enc.shape, y_pred_enc.shape))"
      ],
      "metadata": {
        "colab": {
          "base_uri": "https://localhost:8080/"
        },
        "outputId": "e506fa7d-de30-407e-b6e7-99b58c101e4c",
        "id": "v5S8LB9ubg17"
      },
      "execution_count": null,
      "outputs": [
        {
          "output_type": "stream",
          "name": "stdout",
          "text": [
            "((3000, 6), (3000, 5))\n"
          ]
        }
      ]
    },
    {
      "cell_type": "code",
      "source": [
        "y_pred_enc.value_counts()"
      ],
      "metadata": {
        "id": "vLlABMU2kY41",
        "outputId": "8bc1a495-887d-4688-ca71-21455db66e41",
        "colab": {
          "base_uri": "https://localhost:8080/"
        }
      },
      "execution_count": null,
      "outputs": [
        {
          "output_type": "execute_result",
          "data": {
            "text/plain": [
              "0  1  2  3  4\n",
              "0  1  0  0  0    2112\n",
              "   0  0  0  1     424\n",
              "1  0  0  0  0     316\n",
              "0  0  1  0  0     101\n",
              "      0  1  0      47\n",
              "dtype: int64"
            ]
          },
          "metadata": {},
          "execution_count": 27
        }
      ]
    },
    {
      "cell_type": "code",
      "source": [
        "y_test_enc.value_counts()"
      ],
      "metadata": {
        "id": "2jPZp4P2oIcd",
        "outputId": "68f2bf38-0724-4fd6-fecc-1cf88662268a",
        "colab": {
          "base_uri": "https://localhost:8080/"
        }
      },
      "execution_count": null,
      "outputs": [
        {
          "output_type": "execute_result",
          "data": {
            "text/plain": [
              "HDF  No Failure  OSF  PWF  RNF  TWF\n",
              "0    1           0    0    0    0      2903\n",
              "1    0           0    0    0    0        34\n",
              "0    0           1    0    0    0        22\n",
              "                 0    1    0    0        21\n",
              "                      0    0    1        16\n",
              "                           1    0         4\n",
              "dtype: int64"
            ]
          },
          "metadata": {},
          "execution_count": 28
        }
      ]
    },
    {
      "cell_type": "markdown",
      "source": [
        "Our model did not predict any true values for the TWF column. We have to add one of all false values to make our classification report possible"
      ],
      "metadata": {
        "id": "ACs349f4cRID"
      }
    },
    {
      "cell_type": "markdown",
      "source": [],
      "metadata": {
        "id": "qbWwWrQQcQV9"
      }
    },
    {
      "cell_type": "code",
      "source": [
        "y_pred_enc['TWF'] = 0"
      ],
      "metadata": {
        "id": "27En1i-cumKs"
      },
      "execution_count": null,
      "outputs": []
    },
    {
      "cell_type": "code",
      "source": [
        "from sklearn.metrics import accuracy_score, f1_score\n",
        "print(accuracy_score(y_test_enc, y_pred_enc))"
      ],
      "metadata": {
        "id": "Djnf-CKO7I0b",
        "outputId": "c38a64af-6d4c-4604-d281-e4939f38e393",
        "colab": {
          "base_uri": "https://localhost:8080/"
        }
      },
      "execution_count": null,
      "outputs": [
        {
          "output_type": "stream",
          "name": "stdout",
          "text": [
            "0.722\n"
          ]
        }
      ]
    },
    {
      "cell_type": "code",
      "source": [
        "from sklearn.metrics import confusion_matrix\n",
        "from sklearn.metrics import classification_report\n",
        "labels = np.unique(y_test)\n",
        "print(classification_report(y_test_enc, y_pred_enc, target_names = labels))"
      ],
      "metadata": {
        "colab": {
          "base_uri": "https://localhost:8080/"
        },
        "id": "kRoWS2ymu4qL",
        "outputId": "de263f68-74f7-4793-a94d-c29fbdb57fe2"
      },
      "execution_count": null,
      "outputs": [
        {
          "output_type": "stream",
          "name": "stdout",
          "text": [
            "              precision    recall  f1-score   support\n",
            "\n",
            "         HDF       0.09      0.79      0.15        34\n",
            "  No Failure       0.99      0.72      0.84      2903\n",
            "         OSF       0.21      0.95      0.34        22\n",
            "         PWF       0.40      0.90      0.56        21\n",
            "         RNF       0.00      0.25      0.00         4\n",
            "         TWF       0.00      0.00      0.00        16\n",
            "\n",
            "   micro avg       0.72      0.72      0.72      3000\n",
            "   macro avg       0.28      0.60      0.32      3000\n",
            "weighted avg       0.97      0.72      0.82      3000\n",
            " samples avg       0.72      0.72      0.72      3000\n",
            "\n"
          ]
        },
        {
          "output_type": "stream",
          "name": "stderr",
          "text": [
            "/usr/local/lib/python3.7/dist-packages/sklearn/metrics/_classification.py:1318: UndefinedMetricWarning: Precision and F-score are ill-defined and being set to 0.0 in labels with no predicted samples. Use `zero_division` parameter to control this behavior.\n",
            "  _warn_prf(average, modifier, msg_start, len(result))\n"
          ]
        }
      ]
    },
    {
      "cell_type": "markdown",
      "source": [
        "without oversampleing"
      ],
      "metadata": {
        "id": "_wXtxIjOp623"
      }
    },
    {
      "cell_type": "code",
      "source": [
        "y_train_2 = pd.get_dummies(y_train)"
      ],
      "metadata": {
        "id": "b4mLDdhCqFAP"
      },
      "execution_count": null,
      "outputs": []
    },
    {
      "cell_type": "markdown",
      "source": [
        "Only using 20 epochs on the original data since it converges very fast"
      ],
      "metadata": {
        "id": "KhW-iOZ2HF_8"
      }
    },
    {
      "cell_type": "code",
      "source": [
        "from keras.models import Sequential\n",
        "from keras.layers import Dense, Activation,Dropout\n",
        "from keras.callbacks import ModelCheckpoint, EarlyStopping\n",
        "model_2 = Sequential()\n",
        "model_2.add(Dense(64, input_shape=(X_train.shape[1],), activation='relu'))\n",
        "model_2.add(Dense(32, activation='relu'))\n",
        "model_2.add(Dropout(0.3))\n",
        "model_2.add(Dense(16, activation='relu'))\n",
        "model_2.add(Dense(8, activation='relu'))\n",
        "model_2.add(Dense(6, activation='softmax'))\n",
        "model_2.summary() \n",
        "\n",
        "# compile the model\n",
        "model_2.compile(optimizer='adam', \n",
        "              loss='categorical_crossentropy',\n",
        "              metrics=['accuracy'])\n",
        "\n",
        "\n",
        "es = EarlyStopping(monitor='val_accuracy', \n",
        "                                   mode='max',\n",
        "                                   patience=10,\n",
        "                                   restore_best_weights=True)\n",
        "\n",
        "\n",
        "history2 = model_2.fit(X_train,\n",
        "                    y_train_2,\n",
        "                    epochs=50, \n",
        "                    validation_split=0.2)"
      ],
      "metadata": {
        "id": "QEs5LL9Bp8bb",
        "outputId": "c6ba742e-5d17-4951-fe2b-21599186c8c2",
        "colab": {
          "base_uri": "https://localhost:8080/"
        }
      },
      "execution_count": null,
      "outputs": [
        {
          "output_type": "stream",
          "name": "stdout",
          "text": [
            "Model: \"sequential_4\"\n",
            "_________________________________________________________________\n",
            " Layer (type)                Output Shape              Param #   \n",
            "=================================================================\n",
            " dense_20 (Dense)            (None, 64)                576       \n",
            "                                                                 \n",
            " dense_21 (Dense)            (None, 32)                2080      \n",
            "                                                                 \n",
            " dropout_4 (Dropout)         (None, 32)                0         \n",
            "                                                                 \n",
            " dense_22 (Dense)            (None, 16)                528       \n",
            "                                                                 \n",
            " dense_23 (Dense)            (None, 8)                 136       \n",
            "                                                                 \n",
            " dense_24 (Dense)            (None, 6)                 54        \n",
            "                                                                 \n",
            "=================================================================\n",
            "Total params: 3,374\n",
            "Trainable params: 3,374\n",
            "Non-trainable params: 0\n",
            "_________________________________________________________________\n",
            "Epoch 1/50\n",
            "175/175 [==============================] - 2s 8ms/step - loss: 18.4498 - accuracy: 0.7257 - val_loss: 0.8386 - val_accuracy: 0.9707\n",
            "Epoch 2/50\n",
            "175/175 [==============================] - 1s 6ms/step - loss: 0.8117 - accuracy: 0.9312 - val_loss: 0.2337 - val_accuracy: 0.9707\n",
            "Epoch 3/50\n",
            "175/175 [==============================] - 1s 6ms/step - loss: 0.3518 - accuracy: 0.9555 - val_loss: 0.1624 - val_accuracy: 0.9707\n",
            "Epoch 4/50\n",
            "175/175 [==============================] - 2s 12ms/step - loss: 0.2900 - accuracy: 0.9575 - val_loss: 0.1661 - val_accuracy: 0.9707\n",
            "Epoch 5/50\n",
            "175/175 [==============================] - 2s 12ms/step - loss: 0.2692 - accuracy: 0.9589 - val_loss: 0.1959 - val_accuracy: 0.9707\n",
            "Epoch 6/50\n",
            "175/175 [==============================] - 1s 8ms/step - loss: 0.2574 - accuracy: 0.9613 - val_loss: 0.1661 - val_accuracy: 0.9707\n",
            "Epoch 7/50\n",
            "175/175 [==============================] - 1s 4ms/step - loss: 0.2589 - accuracy: 0.9625 - val_loss: 0.1585 - val_accuracy: 0.9707\n",
            "Epoch 8/50\n",
            "175/175 [==============================] - 0s 3ms/step - loss: 0.2336 - accuracy: 0.9625 - val_loss: 0.1586 - val_accuracy: 0.9707\n",
            "Epoch 9/50\n",
            "175/175 [==============================] - 0s 2ms/step - loss: 0.2353 - accuracy: 0.9625 - val_loss: 0.1709 - val_accuracy: 0.9707\n",
            "Epoch 10/50\n",
            "175/175 [==============================] - 0s 2ms/step - loss: 0.2313 - accuracy: 0.9625 - val_loss: 0.2011 - val_accuracy: 0.9707\n",
            "Epoch 11/50\n",
            "175/175 [==============================] - 0s 2ms/step - loss: 0.2339 - accuracy: 0.9625 - val_loss: 0.1842 - val_accuracy: 0.9707\n",
            "Epoch 12/50\n",
            "175/175 [==============================] - 0s 2ms/step - loss: 0.2239 - accuracy: 0.9621 - val_loss: 0.1846 - val_accuracy: 0.9707\n",
            "Epoch 13/50\n",
            "175/175 [==============================] - 0s 2ms/step - loss: 0.2263 - accuracy: 0.9625 - val_loss: 0.1651 - val_accuracy: 0.9707\n",
            "Epoch 14/50\n",
            "175/175 [==============================] - 0s 2ms/step - loss: 0.2215 - accuracy: 0.9625 - val_loss: 0.1664 - val_accuracy: 0.9707\n",
            "Epoch 15/50\n",
            "175/175 [==============================] - 0s 2ms/step - loss: 0.2326 - accuracy: 0.9625 - val_loss: 0.1710 - val_accuracy: 0.9707\n",
            "Epoch 16/50\n",
            "175/175 [==============================] - 0s 2ms/step - loss: 0.2256 - accuracy: 0.9625 - val_loss: 0.1687 - val_accuracy: 0.9707\n",
            "Epoch 17/50\n",
            "175/175 [==============================] - 0s 2ms/step - loss: 0.2141 - accuracy: 0.9625 - val_loss: 0.1587 - val_accuracy: 0.9707\n",
            "Epoch 18/50\n",
            "175/175 [==============================] - 0s 2ms/step - loss: 0.2022 - accuracy: 0.9625 - val_loss: 0.1541 - val_accuracy: 0.9707\n",
            "Epoch 19/50\n",
            "175/175 [==============================] - 0s 2ms/step - loss: 0.2078 - accuracy: 0.9625 - val_loss: 0.1715 - val_accuracy: 0.9707\n",
            "Epoch 20/50\n",
            "175/175 [==============================] - 0s 2ms/step - loss: 0.2079 - accuracy: 0.9625 - val_loss: 0.1630 - val_accuracy: 0.9707\n",
            "Epoch 21/50\n",
            "175/175 [==============================] - 0s 2ms/step - loss: 0.2074 - accuracy: 0.9625 - val_loss: 0.1633 - val_accuracy: 0.9707\n",
            "Epoch 22/50\n",
            "175/175 [==============================] - 0s 3ms/step - loss: 0.2059 - accuracy: 0.9625 - val_loss: 0.1704 - val_accuracy: 0.9707\n",
            "Epoch 23/50\n",
            "175/175 [==============================] - 0s 2ms/step - loss: 0.2070 - accuracy: 0.9625 - val_loss: 0.1911 - val_accuracy: 0.9707\n",
            "Epoch 24/50\n",
            "175/175 [==============================] - 0s 3ms/step - loss: 0.2144 - accuracy: 0.9625 - val_loss: 0.1828 - val_accuracy: 0.9707\n",
            "Epoch 25/50\n",
            "175/175 [==============================] - 0s 3ms/step - loss: 0.2096 - accuracy: 0.9625 - val_loss: 0.1613 - val_accuracy: 0.9707\n",
            "Epoch 26/50\n",
            "175/175 [==============================] - 0s 2ms/step - loss: 0.2092 - accuracy: 0.9625 - val_loss: 0.1670 - val_accuracy: 0.9707\n",
            "Epoch 27/50\n",
            "175/175 [==============================] - 0s 2ms/step - loss: 0.2089 - accuracy: 0.9625 - val_loss: 0.1712 - val_accuracy: 0.9707\n",
            "Epoch 28/50\n",
            "175/175 [==============================] - 0s 2ms/step - loss: 0.2090 - accuracy: 0.9625 - val_loss: 0.1666 - val_accuracy: 0.9707\n",
            "Epoch 29/50\n",
            "175/175 [==============================] - 0s 2ms/step - loss: 0.2120 - accuracy: 0.9613 - val_loss: 0.1659 - val_accuracy: 0.9707\n",
            "Epoch 30/50\n",
            "175/175 [==============================] - 0s 2ms/step - loss: 0.2101 - accuracy: 0.9625 - val_loss: 0.1748 - val_accuracy: 0.9707\n",
            "Epoch 31/50\n",
            "175/175 [==============================] - 1s 3ms/step - loss: 0.2100 - accuracy: 0.9625 - val_loss: 0.1642 - val_accuracy: 0.9707\n",
            "Epoch 32/50\n",
            "175/175 [==============================] - 0s 2ms/step - loss: 0.2110 - accuracy: 0.9625 - val_loss: 0.1815 - val_accuracy: 0.9707\n",
            "Epoch 33/50\n",
            "175/175 [==============================] - 0s 2ms/step - loss: 0.2140 - accuracy: 0.9625 - val_loss: 0.1746 - val_accuracy: 0.9707\n",
            "Epoch 34/50\n",
            "175/175 [==============================] - 0s 2ms/step - loss: 0.2083 - accuracy: 0.9625 - val_loss: 0.1761 - val_accuracy: 0.9707\n",
            "Epoch 35/50\n",
            "175/175 [==============================] - 0s 2ms/step - loss: 0.2095 - accuracy: 0.9625 - val_loss: 0.1666 - val_accuracy: 0.9707\n",
            "Epoch 36/50\n",
            "175/175 [==============================] - 0s 2ms/step - loss: 0.2094 - accuracy: 0.9625 - val_loss: 0.1633 - val_accuracy: 0.9707\n",
            "Epoch 37/50\n",
            "175/175 [==============================] - 0s 2ms/step - loss: 0.2105 - accuracy: 0.9625 - val_loss: 0.1721 - val_accuracy: 0.9707\n",
            "Epoch 38/50\n",
            "175/175 [==============================] - 0s 2ms/step - loss: 0.2090 - accuracy: 0.9625 - val_loss: 0.1699 - val_accuracy: 0.9707\n",
            "Epoch 39/50\n",
            "175/175 [==============================] - 0s 2ms/step - loss: 0.2111 - accuracy: 0.9625 - val_loss: 0.1660 - val_accuracy: 0.9707\n",
            "Epoch 40/50\n",
            "175/175 [==============================] - 0s 2ms/step - loss: 0.2092 - accuracy: 0.9625 - val_loss: 0.1711 - val_accuracy: 0.9707\n",
            "Epoch 41/50\n",
            "175/175 [==============================] - 0s 2ms/step - loss: 0.2103 - accuracy: 0.9625 - val_loss: 0.1635 - val_accuracy: 0.9707\n",
            "Epoch 42/50\n",
            "175/175 [==============================] - 0s 2ms/step - loss: 0.2088 - accuracy: 0.9625 - val_loss: 0.1637 - val_accuracy: 0.9707\n",
            "Epoch 43/50\n",
            "175/175 [==============================] - 0s 2ms/step - loss: 0.2076 - accuracy: 0.9625 - val_loss: 0.1770 - val_accuracy: 0.9707\n",
            "Epoch 44/50\n",
            "175/175 [==============================] - 0s 3ms/step - loss: 0.2102 - accuracy: 0.9625 - val_loss: 0.1628 - val_accuracy: 0.9707\n",
            "Epoch 45/50\n",
            "175/175 [==============================] - 0s 3ms/step - loss: 0.2108 - accuracy: 0.9625 - val_loss: 0.1734 - val_accuracy: 0.9707\n",
            "Epoch 46/50\n",
            "175/175 [==============================] - 0s 2ms/step - loss: 0.2086 - accuracy: 0.9625 - val_loss: 0.1608 - val_accuracy: 0.9707\n",
            "Epoch 47/50\n",
            "175/175 [==============================] - 0s 2ms/step - loss: 0.2111 - accuracy: 0.9625 - val_loss: 0.1680 - val_accuracy: 0.9707\n",
            "Epoch 48/50\n",
            "175/175 [==============================] - 0s 3ms/step - loss: 0.2064 - accuracy: 0.9625 - val_loss: 0.1585 - val_accuracy: 0.9707\n",
            "Epoch 49/50\n",
            "175/175 [==============================] - 0s 2ms/step - loss: 0.2077 - accuracy: 0.9625 - val_loss: 0.1633 - val_accuracy: 0.9707\n",
            "Epoch 50/50\n",
            "175/175 [==============================] - 0s 3ms/step - loss: 0.2098 - accuracy: 0.9625 - val_loss: 0.1624 - val_accuracy: 0.9707\n"
          ]
        }
      ]
    },
    {
      "cell_type": "code",
      "source": [
        "plt.plot(history2.epoch, history2.history[\"loss\"], 'g', label='Training loss')\n",
        "plt.title('Training loss')\n",
        "plt.xlabel('Epochs')\n",
        "plt.ylabel('Loss')\n",
        "plt.legend()\n",
        "plt.show()\n"
      ],
      "metadata": {
        "colab": {
          "base_uri": "https://localhost:8080/",
          "height": 295
        },
        "outputId": "d0d051b7-e8d4-4274-8ce7-654e3d542a93",
        "id": "bAzwyehrqh-P"
      },
      "execution_count": null,
      "outputs": [
        {
          "output_type": "display_data",
          "data": {
            "text/plain": [
              "<Figure size 432x288 with 1 Axes>"
            ],
            "image/png": "[encoded data removed]"
          },
          "metadata": {
            "needs_background": "light"
          }
        }
      ]
    },
    {
      "cell_type": "code",
      "source": [
        "y_pred2 = model_2.predict(X_test)\n",
        "y_pred2 = np.argmax(y_pred2, axis = -1)\n",
        "y_pred.shape\n"
      ],
      "metadata": {
        "id": "YiXOfDGoqpqM",
        "outputId": "6d44c8a0-1365-43b7-89c4-ee9d05ee1d5f",
        "colab": {
          "base_uri": "https://localhost:8080/"
        }
      },
      "execution_count": null,
      "outputs": [
        {
          "output_type": "execute_result",
          "data": {
            "text/plain": [
              "(3000,)"
            ]
          },
          "metadata": {},
          "execution_count": 76
        }
      ]
    },
    {
      "cell_type": "code",
      "source": [
        "y_pred_enc2 = pd.get_dummies(y_pred2)\n",
        "y_test_enc2 = pd.get_dummies(y_test)\n",
        "print((y_test_enc2.shape, y_pred_enc2.shape))"
      ],
      "metadata": {
        "id": "KyRYA1SsqxfF",
        "outputId": "8ad70f02-b0dc-43ad-94c5-6bbc35eae9e2",
        "colab": {
          "base_uri": "https://localhost:8080/"
        }
      },
      "execution_count": null,
      "outputs": [
        {
          "output_type": "stream",
          "name": "stdout",
          "text": [
            "((3000, 6), (3000, 1))\n"
          ]
        }
      ]
    },
    {
      "cell_type": "code",
      "source": [
        "y_pred_enc2['RNF'] = 0\n",
        "y_pred_enc2['TWF'] = 0\n",
        "y_pred_enc2['PWF'] = 0"
      ],
      "metadata": {
        "id": "PoNntoSLE3s7"
      },
      "execution_count": null,
      "outputs": []
    },
    {
      "cell_type": "code",
      "source": [
        "y_pred_enc2"
      ],
      "metadata": {
        "id": "mxGycDNtFP6Z",
        "outputId": "1a1d5d45-8044-477f-8103-3d117a2228b7",
        "colab": {
          "base_uri": "https://localhost:8080/",
          "height": 424
        }
      },
      "execution_count": null,
      "outputs": [
        {
          "output_type": "execute_result",
          "data": {
            "text/plain": [
              "      1\n",
              "0     1\n",
              "1     1\n",
              "2     1\n",
              "3     1\n",
              "4     1\n",
              "...  ..\n",
              "2995  1\n",
              "2996  1\n",
              "2997  1\n",
              "2998  1\n",
              "2999  1\n",
              "\n",
              "[3000 rows x 1 columns]"
            ],
            "text/html": [
              "\n",
              "  <div id=\"df-7fc34bd9-52eb-4f2a-b21e-52a5b6ba66d0\">\n",
              "    <div class=\"colab-df-container\">\n",
              "      <div>\n",
              "<style scoped>\n",
              "    .dataframe tbody tr th:only-of-type {\n",
              "        vertical-align: middle;\n",
              "    }\n",
              "\n",
              "    .dataframe tbody tr th {\n",
              "        vertical-align: top;\n",
              "    }\n",
              "\n",
              "    .dataframe thead th {\n",
              "        text-align: right;\n",
              "    }\n",
              "</style>\n",
              "<table border=\"1\" class=\"dataframe\">\n",
              "  <thead>\n",
              "    <tr style=\"text-align: right;\">\n",
              "      <th></th>\n",
              "      <th>1</th>\n",
              "    </tr>\n",
              "  </thead>\n",
              "  <tbody>\n",
              "    <tr>\n",
              "      <th>0</th>\n",
              "      <td>1</td>\n",
              "    </tr>\n",
              "    <tr>\n",
              "      <th>1</th>\n",
              "      <td>1</td>\n",
              "    </tr>\n",
              "    <tr>\n",
              "      <th>2</th>\n",
              "      <td>1</td>\n",
              "    </tr>\n",
              "    <tr>\n",
              "      <th>3</th>\n",
              "      <td>1</td>\n",
              "    </tr>\n",
              "    <tr>\n",
              "      <th>4</th>\n",
              "      <td>1</td>\n",
              "    </tr>\n",
              "    <tr>\n",
              "      <th>...</th>\n",
              "      <td>...</td>\n",
              "    </tr>\n",
              "    <tr>\n",
              "      <th>2995</th>\n",
              "      <td>1</td>\n",
              "    </tr>\n",
              "    <tr>\n",
              "      <th>2996</th>\n",
              "      <td>1</td>\n",
              "    </tr>\n",
              "    <tr>\n",
              "      <th>2997</th>\n",
              "      <td>1</td>\n",
              "    </tr>\n",
              "    <tr>\n",
              "      <th>2998</th>\n",
              "      <td>1</td>\n",
              "    </tr>\n",
              "    <tr>\n",
              "      <th>2999</th>\n",
              "      <td>1</td>\n",
              "    </tr>\n",
              "  </tbody>\n",
              "</table>\n",
              "<p>3000 rows × 1 columns</p>\n",
              "</div>\n",
              "      <button class=\"colab-df-convert\" onclick=\"convertToInteractive('df-7fc34bd9-52eb-4f2a-b21e-52a5b6ba66d0')\"\n",
              "              title=\"Convert this dataframe to an interactive table.\"\n",
              "              style=\"display:none;\">\n",
              "        \n",
              "  <svg xmlns=\"http://www.w3.org/2000/svg\" height=\"24px\"viewBox=\"0 0 24 24\"\n",
              "       width=\"24px\">\n",
              "    <path d=\"M0 0h24v24H0V0z\" fill=\"none\"/>\n",
              "    <path d=\"M18.56 5.44l.94 2.06.94-2.06 2.06-.94-2.06-.94-.94-2.06-.94 2.06-2.06.94zm-11 1L8.5 8.5l.94-2.06 2.06-.94-2.06-.94L8.5 2.5l-.94 2.06-2.06.94zm10 10l.94 2.06.94-2.06 2.06-.94-2.06-.94-.94-2.06-.94 2.06-2.06.94z\"/><path d=\"M17.41 7.96l-1.37-1.37c-.4-.4-.92-.59-1.43-.59-.52 0-1.04.2-1.43.59L10.3 9.45l-7.72 7.72c-.78.78-.78 2.05 0 2.83L4 21.41c.39.39.9.59 1.41.59.51 0 1.02-.2 1.41-.59l7.78-7.78 2.81-2.81c.8-.78.8-2.07 0-2.86zM5.41 20L4 18.59l7.72-7.72 1.47 1.35L5.41 20z\"/>\n",
              "  </svg>\n",
              "      </button>\n",
              "      \n",
              "  <style>\n",
              "    .colab-df-container {\n",
              "      display:flex;\n",
              "      flex-wrap:wrap;\n",
              "      gap: 12px;\n",
              "    }\n",
              "\n",
              "    .colab-df-convert {\n",
              "      background-color: #E8F0FE;\n",
              "      border: none;\n",
              "      border-radius: 50%;\n",
              "      cursor: pointer;\n",
              "      display: none;\n",
              "      fill: #1967D2;\n",
              "      height: 32px;\n",
              "      padding: 0 0 0 0;\n",
              "      width: 32px;\n",
              "    }\n",
              "\n",
              "    .colab-df-convert:hover {\n",
              "      background-color: #E2EBFA;\n",
              "      box-shadow: 0px 1px 2px rgba(60, 64, 67, 0.3), 0px 1px 3px 1px rgba(60, 64, 67, 0.15);\n",
              "      fill: #174EA6;\n",
              "    }\n",
              "\n",
              "    [theme=dark] .colab-df-convert {\n",
              "      background-color: #3B4455;\n",
              "      fill: #D2E3FC;\n",
              "    }\n",
              "\n",
              "    [theme=dark] .colab-df-convert:hover {\n",
              "      background-color: #434B5C;\n",
              "      box-shadow: 0px 1px 3px 1px rgba(0, 0, 0, 0.15);\n",
              "      filter: drop-shadow(0px 1px 2px rgba(0, 0, 0, 0.3));\n",
              "      fill: #FFFFFF;\n",
              "    }\n",
              "  </style>\n",
              "\n",
              "      <script>\n",
              "        const buttonEl =\n",
              "          document.querySelector('#df-7fc34bd9-52eb-4f2a-b21e-52a5b6ba66d0 button.colab-df-convert');\n",
              "        buttonEl.style.display =\n",
              "          google.colab.kernel.accessAllowed ? 'block' : 'none';\n",
              "\n",
              "        async function convertToInteractive(key) {\n",
              "          const element = document.querySelector('#df-7fc34bd9-52eb-4f2a-b21e-52a5b6ba66d0');\n",
              "          const dataTable =\n",
              "            await google.colab.kernel.invokeFunction('convertToInteractive',\n",
              "                                                     [key], {});\n",
              "          if (!dataTable) return;\n",
              "\n",
              "          const docLinkHtml = 'Like what you see? Visit the ' +\n",
              "            '<a target=\"_blank\" href=https://colab.research.google.com/notebooks/data_table.ipynb>data table notebook</a>'\n",
              "            + ' to learn more about interactive tables.';\n",
              "          element.innerHTML = '';\n",
              "          dataTable['output_type'] = 'display_data';\n",
              "          await google.colab.output.renderOutput(dataTable, element);\n",
              "          const docLink = document.createElement('div');\n",
              "          docLink.innerHTML = docLinkHtml;\n",
              "          element.appendChild(docLink);\n",
              "        }\n",
              "      </script>\n",
              "    </div>\n",
              "  </div>\n",
              "  "
            ]
          },
          "metadata": {},
          "execution_count": 72
        }
      ]
    },
    {
      "cell_type": "code",
      "source": [
        "labels = np.unique(y_test)\n",
        "print(classification_report(y_test_enc2, y_pred_enc2))"
      ],
      "metadata": {
        "id": "Q_MKXDKj60g1",
        "outputId": "1c7813b3-7877-4fab-dff1-4038f9406d85",
        "colab": {
          "base_uri": "https://localhost:8080/"
        }
      },
      "execution_count": null,
      "outputs": [
        {
          "output_type": "stream",
          "name": "stdout",
          "text": [
            "              precision    recall  f1-score   support\n",
            "\n",
            "           0       0.01      0.82      0.02        34\n",
            "           1       0.65      0.01      0.03      2903\n",
            "           2       0.02      0.05      0.03        22\n",
            "           3       0.00      0.00      0.00        21\n",
            "           4       0.00      0.00      0.00         4\n",
            "           5       0.00      0.00      0.00        16\n",
            "\n",
            "   micro avg       0.02      0.02      0.02      3000\n",
            "   macro avg       0.11      0.15      0.01      3000\n",
            "weighted avg       0.62      0.02      0.03      3000\n",
            " samples avg       0.02      0.02      0.02      3000\n",
            "\n"
          ]
        },
        {
          "output_type": "stream",
          "name": "stderr",
          "text": [
            "/usr/local/lib/python3.7/dist-packages/sklearn/metrics/_classification.py:1318: UndefinedMetricWarning: Precision and F-score are ill-defined and being set to 0.0 in labels with no predicted samples. Use `zero_division` parameter to control this behavior.\n",
            "  _warn_prf(average, modifier, msg_start, len(result))\n"
          ]
        }
      ]
    },
    {
      "cell_type": "code",
      "source": [
        "print('ANN Original Data Accuracy' , accuracy_score(y_test_enc2, y_pred_enc2))\n",
        "print('ANN Over sampled Data Accuracy' , accuracy_score(y_test_enc, y_pred_enc))"
      ],
      "metadata": {
        "id": "tUw99aD3Fhna",
        "outputId": "50197364-e4a5-48cd-c27d-f61a98ee12f6",
        "colab": {
          "base_uri": "https://localhost:8080/"
        }
      },
      "execution_count": null,
      "outputs": [
        {
          "output_type": "stream",
          "name": "stdout",
          "text": [
            "ANN Original Data Accuracy 0.023\n",
            "ANN Over sampled Data Accuracy 0.722\n"
          ]
        }
      ]
    },
    {
      "cell_type": "markdown",
      "source": [
        "Oversampled accuracy is about the same."
      ],
      "metadata": {
        "id": "69Buss3oRouP"
      }
    }
  ]
}