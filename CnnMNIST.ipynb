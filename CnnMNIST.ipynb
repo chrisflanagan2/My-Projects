{
  "nbformat": 4,
  "nbformat_minor": 0,
  "metadata": {
    "kernelspec": {
      "display_name": "Python 3",
      "language": "python",
      "name": "python3"
    },
    "language_info": {
      "codemirror_mode": {
        "name": "ipython",
        "version": 3
      },
      "file_extension": ".py",
      "mimetype": "text/x-python",
      "name": "python",
      "nbconvert_exporter": "python",
      "pygments_lexer": "ipython3",
      "version": "3.7.4"
    },
    "colab": {
      "name": "Assignment_13_Flanagan_Ajmain.ipynb",
      "provenance": [],
      "collapsed_sections": []
    }
  },
  "cells": [
    {
      "cell_type": "markdown",
      "metadata": {
        "id": "Vh_bdqOm8Fts"
      },
      "source": [
        "# CNN Assignment\n",
        "\n",
        "Build an image classifier with Keras and Convolutional Neural Networks for the [Fashion MNIST](https://research.zalando.com/welcome/mission/research-projects/fashion-mnist/) dataset. This data set includes 10 labels of different clothing types with 28 by 28 *grayscale* images. \n",
        "\n",
        "![Image](https://s3-eu-central-1.amazonaws.com/zalando-wp-zalando-research-production/2017/08/fashion-mnist-sprite.png)\n",
        "\n",
        "There is a training set of 60,000 images and 10,000 test images.\n",
        "\n",
        "    Label\tDescription\n",
        "    0\t    T-shirt/top\n",
        "    1\t    Trouser\n",
        "    2\t    Pullover\n",
        "    3\t    Dress\n",
        "    4\t    Coat\n",
        "    5\t    Sandal\n",
        "    6\t    Shirt\n",
        "    7\t    Sneaker\n",
        "    8\t    Bag\n",
        "    9\t    Ankle boot\n",
        "\n",
        "\n",
        "We have used this dataset before (check Session 12). It is a drop-in replacement of the MNIST dataset, but more fashionable (no pun intended:).\n",
        "\n",
        "**Hint: Check the MNIST (B&W image) notebook in Session 13**"
      ]
    },
    {
      "cell_type": "markdown",
      "metadata": {
        "id": "fhh_4owUAWcM"
      },
      "source": [
        "### Import typical libraries"
      ]
    },
    {
      "cell_type": "code",
      "metadata": {
        "id": "rSE6EzciAU5B"
      },
      "source": [
        "import pandas as pd\n",
        "import numpy as np\n",
        "import matplotlib.pyplot as plt\n",
        "%matplotlib inline\n",
        "import seaborn as sns\n",
        "import tensorflow as tf\n",
        "from keras import backend as K\n",
        "import keras"
      ],
      "execution_count": 2,
      "outputs": []
    },
    {
      "cell_type": "markdown",
      "metadata": {
        "id": "xik9YTXq8Ftt"
      },
      "source": [
        "### Load the data\n",
        "\n",
        "Run the code below to download the dataset using Keras"
      ]
    },
    {
      "cell_type": "code",
      "metadata": {
        "id": "vyR3txME8Ftt",
        "colab": {
          "base_uri": "https://localhost:8080/"
        },
        "outputId": "26d59817-73d7-491e-ca03-cc24df30d0d7"
      },
      "source": [
        "from tensorflow.keras.datasets import fashion_mnist\n",
        "\n",
        "(x_train, y_train), (x_test, y_test) = fashion_mnist.load_data()"
      ],
      "execution_count": 3,
      "outputs": [
        {
          "output_type": "stream",
          "text": [
            "Downloading data from https://storage.googleapis.com/tensorflow/tf-keras-datasets/train-labels-idx1-ubyte.gz\n",
            "32768/29515 [=================================] - 0s 0us/step\n",
            "Downloading data from https://storage.googleapis.com/tensorflow/tf-keras-datasets/train-images-idx3-ubyte.gz\n",
            "26427392/26421880 [==============================] - 0s 0us/step\n",
            "Downloading data from https://storage.googleapis.com/tensorflow/tf-keras-datasets/t10k-labels-idx1-ubyte.gz\n",
            "8192/5148 [===============================================] - 0s 0us/step\n",
            "Downloading data from https://storage.googleapis.com/tensorflow/tf-keras-datasets/t10k-images-idx3-ubyte.gz\n",
            "4423680/4422102 [==============================] - 0s 0us/step\n"
          ],
          "name": "stdout"
        }
      ]
    },
    {
      "cell_type": "markdown",
      "metadata": {
        "id": "TjWQnQBb8Ftu"
      },
      "source": [
        "### Visualize the Data\n",
        "\n",
        "Use matplotlib to view a(ny)image of your choice from the training data set. "
      ]
    },
    {
      "cell_type": "code",
      "metadata": {
        "id": "G4ZgIyNG8Ftu",
        "colab": {
          "base_uri": "https://localhost:8080/"
        },
        "outputId": "39a51c92-b5ef-403c-b4ff-a5ce3d0cb6a8"
      },
      "source": [
        "x_train.shape"
      ],
      "execution_count": 4,
      "outputs": [
        {
          "output_type": "execute_result",
          "data": {
            "text/plain": [
              "(60000, 28, 28)"
            ]
          },
          "metadata": {
            "tags": []
          },
          "execution_count": 4
        }
      ]
    },
    {
      "cell_type": "code",
      "metadata": {
        "id": "8m3XeX878Ftu",
        "colab": {
          "base_uri": "https://localhost:8080/"
        },
        "outputId": "2265503f-05d6-439a-be79-04c7a790e8ef"
      },
      "source": [
        "x_train[0].shape"
      ],
      "execution_count": 5,
      "outputs": [
        {
          "output_type": "execute_result",
          "data": {
            "text/plain": [
              "(28, 28)"
            ]
          },
          "metadata": {
            "tags": []
          },
          "execution_count": 5
        }
      ]
    },
    {
      "cell_type": "code",
      "metadata": {
        "colab": {
          "base_uri": "https://localhost:8080/",
          "height": 265
        },
        "id": "z6rBfpGp8Ar4",
        "outputId": "ba1ce470-b928-459c-9b50-1d37846428ee"
      },
      "source": [
        "plt.figure()\n",
        "plt.imshow(x_train[0])\n",
        "plt.colorbar()\n",
        "plt.grid(False)\n",
        "plt.show()"
      ],
      "execution_count": 6,
      "outputs": [
        {
          "output_type": "display_data",
          "data": {
            "image/png": "[encoded data removed]",
            "text/plain": [
              "<Figure size 432x288 with 2 Axes>"
            ]
          },
          "metadata": {
            "tags": [],
            "needs_background": "light"
          }
        }
      ]
    },
    {
      "cell_type": "markdown",
      "metadata": {
        "id": "6_-mfw6H8Ftv"
      },
      "source": [
        "### Preprocess the Data\n",
        "\n"
      ]
    },
    {
      "cell_type": "code",
      "metadata": {
        "colab": {
          "base_uri": "https://localhost:8080/"
        },
        "id": "go-amfDaX0-v",
        "outputId": "ea3820b3-f190-46c8-88c2-34cc92f33a0b"
      },
      "source": [
        "y_train"
      ],
      "execution_count": 7,
      "outputs": [
        {
          "output_type": "execute_result",
          "data": {
            "text/plain": [
              "array([9, 0, 0, ..., 3, 0, 5], dtype=uint8)"
            ]
          },
          "metadata": {
            "tags": []
          },
          "execution_count": 7
        }
      ]
    },
    {
      "cell_type": "code",
      "metadata": {
        "id": "YQoGKQJ68Ftv"
      },
      "source": [
        "x_train = x_train/255\n",
        "x_test = x_test/255"
      ],
      "execution_count": 8,
      "outputs": []
    },
    {
      "cell_type": "code",
      "metadata": {
        "id": "L9iuCnIFQ3Kz"
      },
      "source": [
        "img_rows, img_cols = 28, 28\n",
        "batch_size = 128"
      ],
      "execution_count": 9,
      "outputs": []
    },
    {
      "cell_type": "code",
      "metadata": {
        "id": "hsJv2aU8QqRH"
      },
      "source": [
        "if K.image_data_format() == 'channels_first':\n",
        "    x_train = x_train.reshape(x_train.shape[0], 1, img_rows, img_cols)\n",
        "    x_test = x_test.reshape(x_test.shape[0], 1, img_rows, img_cols)\n",
        "    input_shape = (1, img_rows, img_cols)\n",
        "else:\n",
        "    x_train = x_train.reshape(x_train.shape[0], img_rows, img_cols, 1)\n",
        "    x_test = x_test.reshape(x_test.shape[0], img_rows, img_cols, 1)\n",
        "    input_shape = (img_rows, img_cols, 1)"
      ],
      "execution_count": 10,
      "outputs": []
    },
    {
      "cell_type": "markdown",
      "metadata": {
        "id": "D6LSMH1B8Ftv"
      },
      "source": [
        "### Build the Model\n",
        "\n",
        "**Use Keras to create a model consisting of at least the following layers (but feel free to experiment):**\n",
        "\n",
        "* 2D Convolutional Layer, filters=32 and kernel_size=(4,4)\n",
        "* Pooling Layer where pool_size = (2,2)\n",
        "* Dropout layer , rate = 0.2\n",
        "* 2D Convolutional Layer, filters=64 and kernel_size=(4,4)\n",
        "* Pooling Layer where pool_size = (2,2)\n",
        "* Dropout layer rate = 0.2\n",
        "* Flatten Layer\n",
        "* Dense Layer (1024 Neurons, but feel free to play around with this value), RELU activation\n",
        "\n",
        "* Final Dense Layer of 10 Neurons with a softmax activation\n",
        "\n",
        "**Then compile the model with these parameters: loss='sparse_categorical_crossentropy', optimizer='adam', metrics=['accuracy']**"
      ]
    },
    {
      "cell_type": "code",
      "metadata": {
        "id": "NXVCtJMN8Ftv"
      },
      "source": [
        "from tensorflow.keras.models import Sequential\n",
        "from tensorflow.keras.layers import Dense, Conv2D, MaxPool2D, Flatten, Dropout"
      ],
      "execution_count": 11,
      "outputs": []
    },
    {
      "cell_type": "code",
      "metadata": {
        "id": "kVDyJx4g8Ftv"
      },
      "source": [
        "model = Sequential()\n",
        "model.add(Conv2D(32, kernel_size=(4, 4),\n",
        "                 activation='relu',\n",
        "                 input_shape=input_shape))\n",
        "model.add(Conv2D(64, (4, 4), activation='relu'))\n",
        "model.add(MaxPool2D(pool_size=(2, 2)))\n",
        "model.add(Dropout(0.2))\n",
        "model.add(Flatten())\n",
        "model.add(Dense(1024, activation='relu'))\n",
        "model.add(Dropout(0.2))\n",
        "model.add(Dense(10, activation='softmax'))\n",
        "\n",
        "model.compile(loss=keras.losses.categorical_crossentropy,\n",
        "              optimizer=keras.optimizers.Adadelta(),\n",
        "              metrics=['accuracy'])"
      ],
      "execution_count": 26,
      "outputs": []
    },
    {
      "cell_type": "markdown",
      "metadata": {
        "id": "l7kVodCGIMde"
      },
      "source": [
        "### Display the model summary"
      ]
    },
    {
      "cell_type": "code",
      "metadata": {
        "id": "sFbXgQwyJuqW",
        "colab": {
          "base_uri": "https://localhost:8080/"
        },
        "outputId": "9f046c82-4881-4d65-fe02-c1cc09968dd3"
      },
      "source": [
        "model.summary()"
      ],
      "execution_count": 27,
      "outputs": [
        {
          "output_type": "stream",
          "text": [
            "Model: \"sequential_2\"\n",
            "_________________________________________________________________\n",
            "Layer (type)                 Output Shape              Param #   \n",
            "=================================================================\n",
            "conv2d_4 (Conv2D)            (None, 25, 25, 32)        544       \n",
            "_________________________________________________________________\n",
            "conv2d_5 (Conv2D)            (None, 22, 22, 64)        32832     \n",
            "_________________________________________________________________\n",
            "max_pooling2d_2 (MaxPooling2 (None, 11, 11, 64)        0         \n",
            "_________________________________________________________________\n",
            "dropout_4 (Dropout)          (None, 11, 11, 64)        0         \n",
            "_________________________________________________________________\n",
            "flatten_2 (Flatten)          (None, 7744)              0         \n",
            "_________________________________________________________________\n",
            "dense_4 (Dense)              (None, 1024)              7930880   \n",
            "_________________________________________________________________\n",
            "dropout_5 (Dropout)          (None, 1024)              0         \n",
            "_________________________________________________________________\n",
            "dense_5 (Dense)              (None, 10)                10250     \n",
            "=================================================================\n",
            "Total params: 7,974,506\n",
            "Trainable params: 7,974,506\n",
            "Non-trainable params: 0\n",
            "_________________________________________________________________\n"
          ],
          "name": "stdout"
        }
      ]
    },
    {
      "cell_type": "code",
      "metadata": {
        "id": "YF7QZ0oiJutO"
      },
      "source": [
        "model.compile(optimizer='adam',\n",
        "              loss=tf.keras.losses.SparseCategoricalCrossentropy(from_logits=True),\n",
        "              metrics=['accuracy'])"
      ],
      "execution_count": 28,
      "outputs": []
    },
    {
      "cell_type": "markdown",
      "metadata": {
        "id": "ENz8yvPi8Ftv"
      },
      "source": [
        "### Train the Model\n",
        "Train/Fit the model. Amount of epochs is up to you"
      ]
    },
    {
      "cell_type": "code",
      "metadata": {
        "id": "r6JnAk26bjuU"
      },
      "source": [
        "from tensorflow.keras.callbacks import EarlyStopping\n",
        "early_stop = EarlyStopping(monitor='val_loss',patience=2)"
      ],
      "execution_count": 29,
      "outputs": []
    },
    {
      "cell_type": "code",
      "metadata": {
        "colab": {
          "base_uri": "https://localhost:8080/"
        },
        "id": "kBr9aBHyblGu",
        "outputId": "644ebeb2-dac8-4e74-ad14-8f47f77d000a"
      },
      "source": [
        "model.fit(x_train,y_train,epochs=2,validation_data=(x_test,y_test),callbacks=[early_stop]);"
      ],
      "execution_count": 30,
      "outputs": [
        {
          "output_type": "stream",
          "text": [
            "Epoch 1/2\n",
            "1875/1875 [==============================] - 319s 170ms/step - loss: 1.8243 - accuracy: 0.6362 - val_loss: 1.7766 - val_accuracy: 0.6825\n",
            "Epoch 2/2\n",
            "1875/1875 [==============================] - 322s 172ms/step - loss: 1.6576 - accuracy: 0.8032 - val_loss: 1.6077 - val_accuracy: 0.8534\n"
          ],
          "name": "stdout"
        }
      ]
    },
    {
      "cell_type": "markdown",
      "metadata": {
        "id": "_if8aeSJHt9M"
      },
      "source": [
        "### Plot the validation curves"
      ]
    },
    {
      "cell_type": "code",
      "metadata": {
        "id": "Tw3mmBOhH6F_",
        "colab": {
          "base_uri": "https://localhost:8080/"
        },
        "outputId": "787bb6d4-520b-4127-c056-b6f0512f3f37"
      },
      "source": [
        "model.metrics_names"
      ],
      "execution_count": 31,
      "outputs": [
        {
          "output_type": "execute_result",
          "data": {
            "text/plain": [
              "['loss', 'accuracy']"
            ]
          },
          "metadata": {
            "tags": []
          },
          "execution_count": 31
        }
      ]
    },
    {
      "cell_type": "code",
      "metadata": {
        "id": "mbAApRdxH6JU"
      },
      "source": [
        "losses = pd.DataFrame(model.history.history)"
      ],
      "execution_count": 32,
      "outputs": []
    },
    {
      "cell_type": "code",
      "metadata": {
        "colab": {
          "base_uri": "https://localhost:8080/",
          "height": 110
        },
        "id": "G6FdIAyfYKxl",
        "outputId": "328ecb2a-1643-45ce-f47f-90ab03f44209"
      },
      "source": [
        "losses.head()"
      ],
      "execution_count": 33,
      "outputs": [
        {
          "output_type": "execute_result",
          "data": {
            "text/html": [
              "<div>\n",
              "<style scoped>\n",
              "    .dataframe tbody tr th:only-of-type {\n",
              "        vertical-align: middle;\n",
              "    }\n",
              "\n",
              "    .dataframe tbody tr th {\n",
              "        vertical-align: top;\n",
              "    }\n",
              "\n",
              "    .dataframe thead th {\n",
              "        text-align: right;\n",
              "    }\n",
              "</style>\n",
              "<table border=\"1\" class=\"dataframe\">\n",
              "  <thead>\n",
              "    <tr style=\"text-align: right;\">\n",
              "      <th></th>\n",
              "      <th>loss</th>\n",
              "      <th>accuracy</th>\n",
              "      <th>val_loss</th>\n",
              "      <th>val_accuracy</th>\n",
              "    </tr>\n",
              "  </thead>\n",
              "  <tbody>\n",
              "    <tr>\n",
              "      <th>0</th>\n",
              "      <td>1.824343</td>\n",
              "      <td>0.636167</td>\n",
              "      <td>1.776645</td>\n",
              "      <td>0.6825</td>\n",
              "    </tr>\n",
              "    <tr>\n",
              "      <th>1</th>\n",
              "      <td>1.657592</td>\n",
              "      <td>0.803200</td>\n",
              "      <td>1.607745</td>\n",
              "      <td>0.8534</td>\n",
              "    </tr>\n",
              "  </tbody>\n",
              "</table>\n",
              "</div>"
            ],
            "text/plain": [
              "       loss  accuracy  val_loss  val_accuracy\n",
              "0  1.824343  0.636167  1.776645        0.6825\n",
              "1  1.657592  0.803200  1.607745        0.8534"
            ]
          },
          "metadata": {
            "tags": []
          },
          "execution_count": 33
        }
      ]
    },
    {
      "cell_type": "code",
      "metadata": {
        "colab": {
          "base_uri": "https://localhost:8080/",
          "height": 265
        },
        "id": "Qu9GOvkeYOWz",
        "outputId": "2f2330de-a059-4895-d7fc-2ce4fbde5fdc"
      },
      "source": [
        "losses[['accuracy','val_accuracy']].plot();"
      ],
      "execution_count": 34,
      "outputs": [
        {
          "output_type": "display_data",
          "data": {
            "image/png": "[encoded data removed]",
            "text/plain": [
              "<Figure size 432x288 with 1 Axes>"
            ]
          },
          "metadata": {
            "tags": [],
            "needs_background": "light"
          }
        }
      ]
    },
    {
      "cell_type": "code",
      "metadata": {
        "colab": {
          "base_uri": "https://localhost:8080/",
          "height": 265
        },
        "id": "5-iXejb_dKk_",
        "outputId": "8290695d-ae12-4023-b0e4-474cc4b588c5"
      },
      "source": [
        "losses[['loss','val_loss']].plot();"
      ],
      "execution_count": 35,
      "outputs": [
        {
          "output_type": "display_data",
          "data": {
            "image/png": "[encoded data removed]",
            "text/plain": [
              "<Figure size 432x288 with 1 Axes>"
            ]
          },
          "metadata": {
            "tags": [],
            "needs_background": "light"
          }
        }
      ]
    },
    {
      "cell_type": "markdown",
      "metadata": {
        "id": "zWNR3uH28Ftw"
      },
      "source": [
        "### Evaluate the Model\n",
        "\n",
        "Show the accuracy, precision, recall, and confusion matrix. \n",
        "\n",
        "There are quite a few ways to do this, but I suggest  that you follow the same procedure we used in previous examples."
      ]
    },
    {
      "cell_type": "code",
      "metadata": {
        "id": "eDMOWsBVEk8H",
        "colab": {
          "base_uri": "https://localhost:8080/"
        },
        "outputId": "9c50be94-2641-4d85-8e9c-f7a1ccee0e96"
      },
      "source": [
        "print(model.metrics_names)\n",
        "print(model.evaluate(x_test,y_test,verbose=0))"
      ],
      "execution_count": 36,
      "outputs": [
        {
          "output_type": "stream",
          "text": [
            "['loss', 'accuracy']\n",
            "[1.6077451705932617, 0.8533999919891357]\n"
          ],
          "name": "stdout"
        }
      ]
    },
    {
      "cell_type": "code",
      "metadata": {
        "id": "Xp50fXuJPqFJ"
      },
      "source": [
        "from sklearn.metrics import classification_report,confusion_matrix"
      ],
      "execution_count": 37,
      "outputs": []
    },
    {
      "cell_type": "code",
      "metadata": {
        "id": "jztgYSvuYWAp"
      },
      "source": [
        "predictions = np.argmax(model.predict(x_test), axis=-1)"
      ],
      "execution_count": 38,
      "outputs": []
    },
    {
      "cell_type": "code",
      "metadata": {
        "colab": {
          "base_uri": "https://localhost:8080/"
        },
        "id": "3aE3MSiaYYRN",
        "outputId": "f6d75928-52a2-4c1a-b10d-c8c069bb9603"
      },
      "source": [
        "print(classification_report(y_test,predictions))"
      ],
      "execution_count": 39,
      "outputs": [
        {
          "output_type": "stream",
          "text": [
            "              precision    recall  f1-score   support\n",
            "\n",
            "           0       0.76      0.89      0.82      1000\n",
            "           1       0.98      0.97      0.97      1000\n",
            "           2       0.74      0.78      0.76      1000\n",
            "           3       0.86      0.88      0.87      1000\n",
            "           4       0.66      0.77      0.71      1000\n",
            "           5       0.98      0.96      0.97      1000\n",
            "           6       0.72      0.43      0.54      1000\n",
            "           7       0.92      0.97      0.94      1000\n",
            "           8       0.96      0.96      0.96      1000\n",
            "           9       0.97      0.94      0.95      1000\n",
            "\n",
            "    accuracy                           0.85     10000\n",
            "   macro avg       0.85      0.85      0.85     10000\n",
            "weighted avg       0.85      0.85      0.85     10000\n",
            "\n"
          ],
          "name": "stdout"
        }
      ]
    },
    {
      "cell_type": "code",
      "metadata": {
        "colab": {
          "base_uri": "https://localhost:8080/"
        },
        "id": "8AinGsl8YY0n",
        "outputId": "a290c66a-d4be-49a7-b7c3-ce5a84d676fa"
      },
      "source": [
        "cm = confusion_matrix(y_test, predictions)\n",
        "cm"
      ],
      "execution_count": 40,
      "outputs": [
        {
          "output_type": "execute_result",
          "data": {
            "text/plain": [
              "array([[885,   3,  12,  17,  10,   3,  60,   0,  10,   0],\n",
              "       [  2, 966,   0,  22,   4,   0,   5,   0,   1,   0],\n",
              "       [ 16,   2, 775,   8, 159,   0,  38,   0,   2,   0],\n",
              "       [ 40,  11,   7, 881,  40,   0,  20,   0,   0,   1],\n",
              "       [  1,   2, 135,  58, 770,   1,  31,   0,   2,   0],\n",
              "       [  0,   0,   0,   2,   0, 957,   0,  33,   0,   8],\n",
              "       [226,   1, 115,  30, 178,   0, 429,   0,  21,   0],\n",
              "       [  0,   0,   0,   0,   1,   4,   0, 972,   0,  23],\n",
              "       [  0,   2,   5,   7,  10,   4,   8,   5, 957,   2],\n",
              "       [  0,   0,   0,   0,   0,   7,   1,  50,   0, 942]])"
            ]
          },
          "metadata": {
            "tags": []
          },
          "execution_count": 40
        }
      ]
    },
    {
      "cell_type": "code",
      "metadata": {
        "colab": {
          "base_uri": "https://localhost:8080/",
          "height": 265
        },
        "id": "O-_DAsXQYav8",
        "outputId": "cdb721c5-6fc0-44a7-f811-fc63fb7fa000"
      },
      "source": [
        "sns.heatmap(cm, annot=True,cbar=False,fmt='d');"
      ],
      "execution_count": 41,
      "outputs": [
        {
          "output_type": "display_data",
          "data": {
            "image/png": "[encoded data removed]",
            "text/plain": [
              "<Figure size 432x288 with 1 Axes>"
            ]
          },
          "metadata": {
            "tags": [],
            "needs_background": "light"
          }
        }
      ]
    }
  ]
}